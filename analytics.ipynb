{
 "cells": [
  {
   "cell_type": "code",
   "execution_count": 1,
   "id": "d604e1db",
   "metadata": {},
   "outputs": [
    {
     "name": "stderr",
     "output_type": "stream",
     "text": [
      "D:\\Anaconda\\lib\\site-packages\\numpy\\_distributor_init.py:30: UserWarning: loaded more than 1 DLL from .libs:\n",
      "D:\\Anaconda\\lib\\site-packages\\numpy\\.libs\\libopenblas.EL2C6PLE4ZYW3ECEVIV3OXXGRN2NRFM2.gfortran-win_amd64.dll\n",
      "D:\\Anaconda\\lib\\site-packages\\numpy\\.libs\\libopenblas.WCDJNK7YVMPZQ2ME2ZZHJJRJ3JIKNDB7.gfortran-win_amd64.dll\n",
      "  warnings.warn(\"loaded more than 1 DLL from .libs:\"\n"
     ]
    }
   ],
   "source": [
    "import numpy as np\n",
    "import pandas as pd\n",
    "\n",
    "import matplotlib.pyplot as plt\n",
    "import seaborn as sns\n",
    "\n",
    "import missingno as msno\n",
    "\n",
    "from typing import List\n",
    "\n",
    "from collections import Counter\n",
    "\n",
    "%matplotlib inline"
   ]
  },
  {
   "cell_type": "code",
   "execution_count": 2,
   "id": "6d2bac1f",
   "metadata": {},
   "outputs": [
    {
     "data": {
      "text/html": [
       "<div>\n",
       "<style scoped>\n",
       "    .dataframe tbody tr th:only-of-type {\n",
       "        vertical-align: middle;\n",
       "    }\n",
       "\n",
       "    .dataframe tbody tr th {\n",
       "        vertical-align: top;\n",
       "    }\n",
       "\n",
       "    .dataframe thead th {\n",
       "        text-align: right;\n",
       "    }\n",
       "</style>\n",
       "<table border=\"1\" class=\"dataframe\">\n",
       "  <thead>\n",
       "    <tr style=\"text-align: right;\">\n",
       "      <th></th>\n",
       "      <th>case_id</th>\n",
       "      <th>trans_id</th>\n",
       "      <th>channel</th>\n",
       "      <th>channel_op</th>\n",
       "      <th>TB</th>\n",
       "      <th>platform</th>\n",
       "      <th>product_type</th>\n",
       "      <th>trx_begin_case</th>\n",
       "      <th>crm_case_created_case</th>\n",
       "      <th>questions</th>\n",
       "    </tr>\n",
       "  </thead>\n",
       "  <tbody>\n",
       "    <tr>\n",
       "      <th>0</th>\n",
       "      <td>8200</td>\n",
       "      <td>8200001</td>\n",
       "      <td>Электронный кошелек</td>\n",
       "      <td>Интернет</td>\n",
       "      <td>7</td>\n",
       "      <td>Другое</td>\n",
       "      <td>Банковская карта</td>\n",
       "      <td>2021-11-01 06:57:19</td>\n",
       "      <td>2021-10-31 22:02:25</td>\n",
       "      <td>{u'ТСТ Причина совершения операции': u'Продает...</td>\n",
       "    </tr>\n",
       "    <tr>\n",
       "      <th>1</th>\n",
       "      <td>6100</td>\n",
       "      <td>6100001</td>\n",
       "      <td>Электронный кошелек</td>\n",
       "      <td>Интернет</td>\n",
       "      <td>7</td>\n",
       "      <td>Другое</td>\n",
       "      <td>Банковская карта</td>\n",
       "      <td>2021-11-01 01:59:53</td>\n",
       "      <td>2021-10-31 22:38:47</td>\n",
       "      <td>{u'Тип мошенничества': u'FIN', u'ТСТ Вердикт':...</td>\n",
       "    </tr>\n",
       "    <tr>\n",
       "      <th>2</th>\n",
       "      <td>6100</td>\n",
       "      <td>6100007</td>\n",
       "      <td>Электронный кошелек</td>\n",
       "      <td>Интернет</td>\n",
       "      <td>7</td>\n",
       "      <td>Другое</td>\n",
       "      <td>Банковская карта</td>\n",
       "      <td>2021-11-01 02:05:08</td>\n",
       "      <td>2021-10-31 22:38:47</td>\n",
       "      <td>{u'Тип мошенничества': u'FIN', u'ТСТ Вердикт':...</td>\n",
       "    </tr>\n",
       "    <tr>\n",
       "      <th>3</th>\n",
       "      <td>6100</td>\n",
       "      <td>6100002</td>\n",
       "      <td>Электронный кошелек</td>\n",
       "      <td>Интернет</td>\n",
       "      <td>7</td>\n",
       "      <td>Другое</td>\n",
       "      <td>Банковская карта</td>\n",
       "      <td>2021-11-01 02:00:57</td>\n",
       "      <td>2021-10-31 22:38:47</td>\n",
       "      <td>{u'Тип мошенничества': u'FIN', u'ТСТ Вердикт':...</td>\n",
       "    </tr>\n",
       "    <tr>\n",
       "      <th>4</th>\n",
       "      <td>6100</td>\n",
       "      <td>6100005</td>\n",
       "      <td>Электронный кошелек</td>\n",
       "      <td>Интернет</td>\n",
       "      <td>7</td>\n",
       "      <td>Другое</td>\n",
       "      <td>Банковская карта</td>\n",
       "      <td>2021-11-01 02:03:45</td>\n",
       "      <td>2021-10-31 22:38:47</td>\n",
       "      <td>{u'Тип мошенничества': u'FIN', u'ТСТ Вердикт':...</td>\n",
       "    </tr>\n",
       "  </tbody>\n",
       "</table>\n",
       "</div>"
      ],
      "text/plain": [
       "   case_id  trans_id              channel channel_op  TB platform  \\\n",
       "0     8200   8200001  Электронный кошелек   Интернет   7   Другое   \n",
       "1     6100   6100001  Электронный кошелек   Интернет   7   Другое   \n",
       "2     6100   6100007  Электронный кошелек   Интернет   7   Другое   \n",
       "3     6100   6100002  Электронный кошелек   Интернет   7   Другое   \n",
       "4     6100   6100005  Электронный кошелек   Интернет   7   Другое   \n",
       "\n",
       "       product_type      trx_begin_case crm_case_created_case  \\\n",
       "0  Банковская карта 2021-11-01 06:57:19   2021-10-31 22:02:25   \n",
       "1  Банковская карта 2021-11-01 01:59:53   2021-10-31 22:38:47   \n",
       "2  Банковская карта 2021-11-01 02:05:08   2021-10-31 22:38:47   \n",
       "3  Банковская карта 2021-11-01 02:00:57   2021-10-31 22:38:47   \n",
       "4  Банковская карта 2021-11-01 02:03:45   2021-10-31 22:38:47   \n",
       "\n",
       "                                           questions  \n",
       "0  {u'ТСТ Причина совершения операции': u'Продает...  \n",
       "1  {u'Тип мошенничества': u'FIN', u'ТСТ Вердикт':...  \n",
       "2  {u'Тип мошенничества': u'FIN', u'ТСТ Вердикт':...  \n",
       "3  {u'Тип мошенничества': u'FIN', u'ТСТ Вердикт':...  \n",
       "4  {u'Тип мошенничества': u'FIN', u'ТСТ Вердикт':...  "
      ]
     },
     "execution_count": 2,
     "metadata": {},
     "output_type": "execute_result"
    }
   ],
   "source": [
    "df = pd.read_excel('for_analitics.xlsx')\n",
    "df.head()"
   ]
  },
  {
   "cell_type": "code",
   "execution_count": 3,
   "id": "19992892",
   "metadata": {},
   "outputs": [
    {
     "data": {
      "text/plain": [
       "(8770, 10)"
      ]
     },
     "execution_count": 3,
     "metadata": {},
     "output_type": "execute_result"
    }
   ],
   "source": [
    "df.shape"
   ]
  },
  {
   "cell_type": "code",
   "execution_count": 4,
   "id": "12dc38d0",
   "metadata": {},
   "outputs": [
    {
     "data": {
      "text/plain": [
       "case_id                           int64\n",
       "trans_id                          int64\n",
       "channel                          object\n",
       "channel_op                       object\n",
       "TB                                int64\n",
       "platform                         object\n",
       "product_type                     object\n",
       "trx_begin_case           datetime64[ns]\n",
       "crm_case_created_case    datetime64[ns]\n",
       "questions                        object\n",
       "dtype: object"
      ]
     },
     "execution_count": 4,
     "metadata": {},
     "output_type": "execute_result"
    }
   ],
   "source": [
    "df.dtypes"
   ]
  },
  {
   "cell_type": "code",
   "execution_count": 5,
   "id": "7a55f8ee",
   "metadata": {},
   "outputs": [
    {
     "data": {
      "text/plain": [
       "\"{u'ТСТ Причина совершения операции': u'Продает или покупает товар/услугу черезИнтернет', u'ТСТ Вы совершили данную операцию самостоятельно?': u'1', u'Тип мошенничества': u'FIN', u'ТСТ Вердикт': u'Товар/услугу не получил, обман', u'ТСТ Схема мошенничества': u'Сам перевел'}\""
      ]
     },
     "execution_count": 5,
     "metadata": {},
     "output_type": "execute_result"
    }
   ],
   "source": [
    "df['questions'][0]"
   ]
  },
  {
   "cell_type": "markdown",
   "id": "c2fd2f5b",
   "metadata": {},
   "source": [
    "# Missing values"
   ]
  },
  {
   "cell_type": "code",
   "execution_count": 6,
   "id": "9b60c00f",
   "metadata": {},
   "outputs": [
    {
     "data": {
      "image/png": "[encoded data removed]",
      "text/plain": [
       "<Figure size 1800x720 with 3 Axes>"
      ]
     },
     "metadata": {
      "needs_background": "light"
     },
     "output_type": "display_data"
    }
   ],
   "source": [
    "msno.bar(df)\n",
    "plt.show()"
   ]
  },
  {
   "cell_type": "code",
   "execution_count": 7,
   "id": "55a1a3ba",
   "metadata": {},
   "outputs": [
    {
     "data": {
      "text/plain": [
       "Устройства самообслуживания    573\n",
       "ТСТ или Токен                    3\n",
       "СБОЛ                             1\n",
       "Name: channel_op, dtype: int64"
      ]
     },
     "execution_count": 7,
     "metadata": {},
     "output_type": "execute_result"
    }
   ],
   "source": [
    "df[df['channel'].isna()]['channel_op'].value_counts()"
   ]
  },
  {
   "cell_type": "code",
   "execution_count": 8,
   "id": "0a529954",
   "metadata": {},
   "outputs": [
    {
     "data": {
      "text/plain": [
       "Иное                   37\n",
       "Карта другого Банка     3\n",
       "Номер телефона          1\n",
       "Name: channel, dtype: int64"
      ]
     },
     "execution_count": 8,
     "metadata": {},
     "output_type": "execute_result"
    }
   ],
   "source": [
    "df[df['channel_op'] == 'Устройства самообслуживания']['channel'].value_counts()"
   ]
  },
  {
   "cell_type": "code",
   "execution_count": 9,
   "id": "02d29eae",
   "metadata": {},
   "outputs": [
    {
     "data": {
      "text/html": [
       "<div>\n",
       "<style scoped>\n",
       "    .dataframe tbody tr th:only-of-type {\n",
       "        vertical-align: middle;\n",
       "    }\n",
       "\n",
       "    .dataframe tbody tr th {\n",
       "        vertical-align: top;\n",
       "    }\n",
       "\n",
       "    .dataframe thead th {\n",
       "        text-align: right;\n",
       "    }\n",
       "</style>\n",
       "<table border=\"1\" class=\"dataframe\">\n",
       "  <thead>\n",
       "    <tr style=\"text-align: right;\">\n",
       "      <th></th>\n",
       "      <th>trans_id</th>\n",
       "      <th>channel</th>\n",
       "      <th>channel_op</th>\n",
       "      <th>TB</th>\n",
       "      <th>platform</th>\n",
       "      <th>product_type</th>\n",
       "      <th>trx_begin_case</th>\n",
       "      <th>crm_case_created_case</th>\n",
       "      <th>questions</th>\n",
       "    </tr>\n",
       "    <tr>\n",
       "      <th>case_id</th>\n",
       "      <th></th>\n",
       "      <th></th>\n",
       "      <th></th>\n",
       "      <th></th>\n",
       "      <th></th>\n",
       "      <th></th>\n",
       "      <th></th>\n",
       "      <th></th>\n",
       "      <th></th>\n",
       "    </tr>\n",
       "  </thead>\n",
       "  <tbody>\n",
       "    <tr>\n",
       "      <th>2100</th>\n",
       "      <td>3</td>\n",
       "      <td>3</td>\n",
       "      <td>3</td>\n",
       "      <td>3</td>\n",
       "      <td>3</td>\n",
       "      <td>3</td>\n",
       "      <td>3</td>\n",
       "      <td>3</td>\n",
       "      <td>3</td>\n",
       "    </tr>\n",
       "    <tr>\n",
       "      <th>2200</th>\n",
       "      <td>2</td>\n",
       "      <td>2</td>\n",
       "      <td>2</td>\n",
       "      <td>2</td>\n",
       "      <td>2</td>\n",
       "      <td>2</td>\n",
       "      <td>2</td>\n",
       "      <td>2</td>\n",
       "      <td>2</td>\n",
       "    </tr>\n",
       "    <tr>\n",
       "      <th>2800</th>\n",
       "      <td>3</td>\n",
       "      <td>3</td>\n",
       "      <td>3</td>\n",
       "      <td>3</td>\n",
       "      <td>3</td>\n",
       "      <td>3</td>\n",
       "      <td>3</td>\n",
       "      <td>3</td>\n",
       "      <td>3</td>\n",
       "    </tr>\n",
       "    <tr>\n",
       "      <th>3300</th>\n",
       "      <td>1</td>\n",
       "      <td>1</td>\n",
       "      <td>1</td>\n",
       "      <td>1</td>\n",
       "      <td>1</td>\n",
       "      <td>1</td>\n",
       "      <td>1</td>\n",
       "      <td>1</td>\n",
       "      <td>1</td>\n",
       "    </tr>\n",
       "    <tr>\n",
       "      <th>3600</th>\n",
       "      <td>2</td>\n",
       "      <td>0</td>\n",
       "      <td>2</td>\n",
       "      <td>2</td>\n",
       "      <td>2</td>\n",
       "      <td>2</td>\n",
       "      <td>2</td>\n",
       "      <td>2</td>\n",
       "      <td>0</td>\n",
       "    </tr>\n",
       "    <tr>\n",
       "      <th>3900</th>\n",
       "      <td>2</td>\n",
       "      <td>2</td>\n",
       "      <td>2</td>\n",
       "      <td>2</td>\n",
       "      <td>2</td>\n",
       "      <td>2</td>\n",
       "      <td>2</td>\n",
       "      <td>2</td>\n",
       "      <td>2</td>\n",
       "    </tr>\n",
       "    <tr>\n",
       "      <th>7400</th>\n",
       "      <td>4</td>\n",
       "      <td>3</td>\n",
       "      <td>4</td>\n",
       "      <td>4</td>\n",
       "      <td>4</td>\n",
       "      <td>4</td>\n",
       "      <td>4</td>\n",
       "      <td>4</td>\n",
       "      <td>3</td>\n",
       "    </tr>\n",
       "    <tr>\n",
       "      <th>8800</th>\n",
       "      <td>3</td>\n",
       "      <td>3</td>\n",
       "      <td>3</td>\n",
       "      <td>3</td>\n",
       "      <td>3</td>\n",
       "      <td>3</td>\n",
       "      <td>3</td>\n",
       "      <td>3</td>\n",
       "      <td>3</td>\n",
       "    </tr>\n",
       "  </tbody>\n",
       "</table>\n",
       "</div>"
      ],
      "text/plain": [
       "         trans_id  channel  channel_op  TB  platform  product_type  \\\n",
       "case_id                                                              \n",
       "2100            3        3           3   3         3             3   \n",
       "2200            2        2           2   2         2             2   \n",
       "2800            3        3           3   3         3             3   \n",
       "3300            1        1           1   1         1             1   \n",
       "3600            2        0           2   2         2             2   \n",
       "3900            2        2           2   2         2             2   \n",
       "7400            4        3           4   4         4             4   \n",
       "8800            3        3           3   3         3             3   \n",
       "\n",
       "         trx_begin_case  crm_case_created_case  questions  \n",
       "case_id                                                    \n",
       "2100                  3                      3          3  \n",
       "2200                  2                      2          2  \n",
       "2800                  3                      3          3  \n",
       "3300                  1                      1          1  \n",
       "3600                  2                      2          0  \n",
       "3900                  2                      2          2  \n",
       "7400                  4                      4          3  \n",
       "8800                  3                      3          3  "
      ]
     },
     "execution_count": 9,
     "metadata": {},
     "output_type": "execute_result"
    }
   ],
   "source": [
    "df[df['channel_op'] == 'ТСТ или Токен'].groupby('case_id').count()"
   ]
  },
  {
   "cell_type": "code",
   "execution_count": 10,
   "id": "ce00f9e2",
   "metadata": {},
   "outputs": [
    {
     "data": {
      "text/plain": [
       "СБОЛ             18\n",
       "Токен             5\n",
       "ТСТ или Токен     3\n",
       "Другое            2\n",
       "Name: channel_op, dtype: int64"
      ]
     },
     "execution_count": 10,
     "metadata": {},
     "output_type": "execute_result"
    }
   ],
   "source": [
    "df[df['questions'].isna()]['channel_op'].value_counts()"
   ]
  },
  {
   "cell_type": "code",
   "execution_count": 11,
   "id": "9314542d",
   "metadata": {},
   "outputs": [
    {
     "data": {
      "text/plain": [
       "Карта другого Банка    11\n",
       "Снятие наличных         5\n",
       "Карта Сбербанка         4\n",
       "Номер телефона          2\n",
       "Иное                    2\n",
       "Name: channel, dtype: int64"
      ]
     },
     "execution_count": 11,
     "metadata": {},
     "output_type": "execute_result"
    }
   ],
   "source": [
    "df[df['questions'].isna()]['channel'].value_counts()"
   ]
  },
  {
   "cell_type": "code",
   "execution_count": 12,
   "id": "acbda8ac",
   "metadata": {},
   "outputs": [
    {
     "data": {
      "text/html": [
       "<div>\n",
       "<style scoped>\n",
       "    .dataframe tbody tr th:only-of-type {\n",
       "        vertical-align: middle;\n",
       "    }\n",
       "\n",
       "    .dataframe tbody tr th {\n",
       "        vertical-align: top;\n",
       "    }\n",
       "\n",
       "    .dataframe thead th {\n",
       "        text-align: right;\n",
       "    }\n",
       "</style>\n",
       "<table border=\"1\" class=\"dataframe\">\n",
       "  <thead>\n",
       "    <tr style=\"text-align: right;\">\n",
       "      <th></th>\n",
       "      <th>trans_id</th>\n",
       "      <th>channel</th>\n",
       "      <th>channel_op</th>\n",
       "      <th>TB</th>\n",
       "      <th>platform</th>\n",
       "      <th>product_type</th>\n",
       "      <th>trx_begin_case</th>\n",
       "      <th>crm_case_created_case</th>\n",
       "      <th>questions</th>\n",
       "    </tr>\n",
       "    <tr>\n",
       "      <th>case_id</th>\n",
       "      <th></th>\n",
       "      <th></th>\n",
       "      <th></th>\n",
       "      <th></th>\n",
       "      <th></th>\n",
       "      <th></th>\n",
       "      <th></th>\n",
       "      <th></th>\n",
       "      <th></th>\n",
       "    </tr>\n",
       "  </thead>\n",
       "  <tbody>\n",
       "    <tr>\n",
       "      <th>500</th>\n",
       "      <td>2</td>\n",
       "      <td>2</td>\n",
       "      <td>2</td>\n",
       "      <td>2</td>\n",
       "      <td>2</td>\n",
       "      <td>2</td>\n",
       "      <td>2</td>\n",
       "      <td>2</td>\n",
       "      <td>0</td>\n",
       "    </tr>\n",
       "    <tr>\n",
       "      <th>2600</th>\n",
       "      <td>2</td>\n",
       "      <td>2</td>\n",
       "      <td>2</td>\n",
       "      <td>2</td>\n",
       "      <td>2</td>\n",
       "      <td>2</td>\n",
       "      <td>2</td>\n",
       "      <td>2</td>\n",
       "      <td>0</td>\n",
       "    </tr>\n",
       "    <tr>\n",
       "      <th>3100</th>\n",
       "      <td>1</td>\n",
       "      <td>1</td>\n",
       "      <td>1</td>\n",
       "      <td>1</td>\n",
       "      <td>1</td>\n",
       "      <td>1</td>\n",
       "      <td>1</td>\n",
       "      <td>1</td>\n",
       "      <td>0</td>\n",
       "    </tr>\n",
       "    <tr>\n",
       "      <th>3500</th>\n",
       "      <td>2</td>\n",
       "      <td>2</td>\n",
       "      <td>2</td>\n",
       "      <td>2</td>\n",
       "      <td>2</td>\n",
       "      <td>2</td>\n",
       "      <td>2</td>\n",
       "      <td>2</td>\n",
       "      <td>0</td>\n",
       "    </tr>\n",
       "    <tr>\n",
       "      <th>3600</th>\n",
       "      <td>2</td>\n",
       "      <td>0</td>\n",
       "      <td>2</td>\n",
       "      <td>2</td>\n",
       "      <td>2</td>\n",
       "      <td>2</td>\n",
       "      <td>2</td>\n",
       "      <td>2</td>\n",
       "      <td>0</td>\n",
       "    </tr>\n",
       "    <tr>\n",
       "      <th>4400</th>\n",
       "      <td>1</td>\n",
       "      <td>1</td>\n",
       "      <td>1</td>\n",
       "      <td>1</td>\n",
       "      <td>1</td>\n",
       "      <td>1</td>\n",
       "      <td>1</td>\n",
       "      <td>1</td>\n",
       "      <td>0</td>\n",
       "    </tr>\n",
       "    <tr>\n",
       "      <th>5000</th>\n",
       "      <td>1</td>\n",
       "      <td>1</td>\n",
       "      <td>1</td>\n",
       "      <td>1</td>\n",
       "      <td>1</td>\n",
       "      <td>1</td>\n",
       "      <td>1</td>\n",
       "      <td>1</td>\n",
       "      <td>0</td>\n",
       "    </tr>\n",
       "    <tr>\n",
       "      <th>5200</th>\n",
       "      <td>5</td>\n",
       "      <td>5</td>\n",
       "      <td>5</td>\n",
       "      <td>5</td>\n",
       "      <td>5</td>\n",
       "      <td>5</td>\n",
       "      <td>5</td>\n",
       "      <td>5</td>\n",
       "      <td>0</td>\n",
       "    </tr>\n",
       "    <tr>\n",
       "      <th>6400</th>\n",
       "      <td>1</td>\n",
       "      <td>0</td>\n",
       "      <td>1</td>\n",
       "      <td>1</td>\n",
       "      <td>1</td>\n",
       "      <td>1</td>\n",
       "      <td>1</td>\n",
       "      <td>1</td>\n",
       "      <td>0</td>\n",
       "    </tr>\n",
       "    <tr>\n",
       "      <th>7400</th>\n",
       "      <td>1</td>\n",
       "      <td>0</td>\n",
       "      <td>1</td>\n",
       "      <td>1</td>\n",
       "      <td>1</td>\n",
       "      <td>1</td>\n",
       "      <td>1</td>\n",
       "      <td>1</td>\n",
       "      <td>0</td>\n",
       "    </tr>\n",
       "    <tr>\n",
       "      <th>8800</th>\n",
       "      <td>8</td>\n",
       "      <td>8</td>\n",
       "      <td>8</td>\n",
       "      <td>8</td>\n",
       "      <td>8</td>\n",
       "      <td>8</td>\n",
       "      <td>8</td>\n",
       "      <td>8</td>\n",
       "      <td>0</td>\n",
       "    </tr>\n",
       "    <tr>\n",
       "      <th>9000</th>\n",
       "      <td>2</td>\n",
       "      <td>2</td>\n",
       "      <td>2</td>\n",
       "      <td>2</td>\n",
       "      <td>2</td>\n",
       "      <td>2</td>\n",
       "      <td>2</td>\n",
       "      <td>2</td>\n",
       "      <td>0</td>\n",
       "    </tr>\n",
       "  </tbody>\n",
       "</table>\n",
       "</div>"
      ],
      "text/plain": [
       "         trans_id  channel  channel_op  TB  platform  product_type  \\\n",
       "case_id                                                              \n",
       "500             2        2           2   2         2             2   \n",
       "2600            2        2           2   2         2             2   \n",
       "3100            1        1           1   1         1             1   \n",
       "3500            2        2           2   2         2             2   \n",
       "3600            2        0           2   2         2             2   \n",
       "4400            1        1           1   1         1             1   \n",
       "5000            1        1           1   1         1             1   \n",
       "5200            5        5           5   5         5             5   \n",
       "6400            1        0           1   1         1             1   \n",
       "7400            1        0           1   1         1             1   \n",
       "8800            8        8           8   8         8             8   \n",
       "9000            2        2           2   2         2             2   \n",
       "\n",
       "         trx_begin_case  crm_case_created_case  questions  \n",
       "case_id                                                    \n",
       "500                   2                      2          0  \n",
       "2600                  2                      2          0  \n",
       "3100                  1                      1          0  \n",
       "3500                  2                      2          0  \n",
       "3600                  2                      2          0  \n",
       "4400                  1                      1          0  \n",
       "5000                  1                      1          0  \n",
       "5200                  5                      5          0  \n",
       "6400                  1                      1          0  \n",
       "7400                  1                      1          0  \n",
       "8800                  8                      8          0  \n",
       "9000                  2                      2          0  "
      ]
     },
     "execution_count": 12,
     "metadata": {},
     "output_type": "execute_result"
    }
   ],
   "source": [
    "df[df['questions'].isna()].groupby('case_id').count()"
   ]
  },
  {
   "cell_type": "markdown",
   "id": "406db090",
   "metadata": {},
   "source": [
    "##### В столбце channel отсутсвует 577 значений\n",
    "Если канал куда совершенно было списание отсутсвует,то канал с которогое списали - это терминал самообслуживания(4 остальных вероятно выбросы).\n",
    "Так как в большинстве случаев если списывали с терминала самообслуживания,то переводили в канал 'Иное',таким же значением и заполним пропуски.\n",
    "\n",
    "##### В столбце questions отсутсвует 28 значений\n",
    "Большинство из них - транзакции из СБОЛ на карту другого банка.\n",
    "Заполним их текстом 'НетДанных'."
   ]
  },
  {
   "cell_type": "code",
   "execution_count": 13,
   "id": "591b5b1b",
   "metadata": {},
   "outputs": [],
   "source": [
    "df['questions']=df['questions'].fillna('НетДанных')\n",
    "df['channel'] = df['channel'].fillna('Иное')"
   ]
  },
  {
   "cell_type": "code",
   "execution_count": 14,
   "id": "8834d22e",
   "metadata": {},
   "outputs": [
    {
     "data": {
      "image/png": "[encoded data removed]",
      "text/plain": [
       "<Figure size 1800x720 with 3 Axes>"
      ]
     },
     "metadata": {
      "needs_background": "light"
     },
     "output_type": "display_data"
    }
   ],
   "source": [
    "msno.bar(df)\n",
    "plt.show()"
   ]
  },
  {
   "cell_type": "markdown",
   "id": "afdf8f2b",
   "metadata": {},
   "source": [
    "# EDA"
   ]
  },
  {
   "cell_type": "code",
   "execution_count": 15,
   "id": "9b84aab6",
   "metadata": {},
   "outputs": [
    {
     "data": {
      "text/plain": [
       "6700    152\n",
       "2500    149\n",
       "5300    132\n",
       "6900    126\n",
       "7000    123\n",
       "       ... \n",
       "7100     57\n",
       "1300     54\n",
       "8000     54\n",
       "100      50\n",
       "7900     43\n",
       "Name: case_id, Length: 100, dtype: int64"
      ]
     },
     "execution_count": 15,
     "metadata": {},
     "output_type": "execute_result"
    }
   ],
   "source": [
    "df['case_id'].value_counts()"
   ]
  },
  {
   "cell_type": "code",
   "execution_count": 16,
   "id": "fba9172e",
   "metadata": {},
   "outputs": [
    {
     "data": {
      "text/plain": [
       "count    100.000000\n",
       "mean      87.700000\n",
       "std       18.756548\n",
       "min       43.000000\n",
       "25%       75.750000\n",
       "50%       86.000000\n",
       "75%       95.000000\n",
       "max      152.000000\n",
       "Name: trans_id, dtype: float64"
      ]
     },
     "execution_count": 16,
     "metadata": {},
     "output_type": "execute_result"
    }
   ],
   "source": [
    "df.groupby('case_id')['trans_id'].count().describe()"
   ]
  },
  {
   "cell_type": "code",
   "execution_count": 17,
   "id": "7b429b55",
   "metadata": {},
   "outputs": [
    {
     "data": {
      "image/png": "[encoded data removed]",
      "text/plain": [
       "<Figure size 1080x720 with 4 Axes>"
      ]
     },
     "metadata": {
      "needs_background": "light"
     },
     "output_type": "display_data"
    }
   ],
   "source": [
    "plt.figure(figsize = (15,10))\n",
    "plt.subplot(2, 2, 1)\n",
    "plt.bar(df['channel'].value_counts().index,df['channel'].value_counts().values)\n",
    "plt.xticks(rotation=90)\n",
    "plt.title('channel')\n",
    "plt.subplot(2, 2, 2)\n",
    "plt.bar(df['channel_op'].value_counts().index,df['channel_op'].value_counts().values)\n",
    "plt.xticks(rotation=90)\n",
    "plt.title('channel_op')\n",
    "plt.subplot(2, 2, 3)\n",
    "plt.bar(df['platform'].value_counts().index,df['platform'].value_counts().values)\n",
    "plt.title('platform')\n",
    "plt.subplot(2, 2, 4)\n",
    "plt.bar(df['product_type'].value_counts().index,df['product_type'].value_counts().values)\n",
    "plt.title('product_type')\n",
    "plt.tight_layout()\n",
    "plt.show()"
   ]
  },
  {
   "cell_type": "code",
   "execution_count": 18,
   "id": "60d8c7f3",
   "metadata": {},
   "outputs": [
    {
     "data": {
      "text/plain": [
       "channel              channel_op                 \n",
       "Иное                 Интернет                       1603\n",
       "                     Устройства самообслуживания     610\n",
       "                     Другое                          381\n",
       "                     СБОЛ                            264\n",
       "                     Зачисление кредита              142\n",
       "                     ТСТ или Токен                    20\n",
       "                     Другой канал                      1\n",
       "Карта Сбербанка      СБОЛ                            696\n",
       "                     Интернет                        557\n",
       "                     Зачисление кредита               20\n",
       "                     Другое                           16\n",
       "Карта другого Банка  СБОЛ                           1080\n",
       "                     Интернет                        301\n",
       "                     Другое                           21\n",
       "                     Устройства самообслуживания       3\n",
       "Номер телефона       СБОЛ                            135\n",
       "                     Другое                           10\n",
       "                     Устройства самообслуживания       1\n",
       "Платежный счет       СБОЛ                              1\n",
       "Снятие наличных      Токен                          2026\n",
       "Счет                 СБОЛ                             25\n",
       "ТСТ                  Токен                           119\n",
       "Электронный кошелек  Интернет                        689\n",
       "                     СБОЛ                             49\n",
       "Name: channel_op, dtype: int64"
      ]
     },
     "execution_count": 18,
     "metadata": {},
     "output_type": "execute_result"
    }
   ],
   "source": [
    "df.groupby('channel')['channel_op'].value_counts(normalize = False)"
   ]
  },
  {
   "cell_type": "code",
   "execution_count": 19,
   "id": "70d19ed5",
   "metadata": {},
   "outputs": [
    {
     "data": {
      "text/plain": [
       "channel              channel_op                 \n",
       "Иное                 Интернет                       0.530619\n",
       "                     Устройства самообслуживания    0.201920\n",
       "                     Другое                         0.126117\n",
       "                     СБОЛ                           0.087388\n",
       "                     Зачисление кредита             0.047004\n",
       "                     ТСТ или Токен                  0.006620\n",
       "                     Другой канал                   0.000331\n",
       "Карта Сбербанка      СБОЛ                           0.539953\n",
       "                     Интернет                       0.432118\n",
       "                     Зачисление кредита             0.015516\n",
       "                     Другое                         0.012413\n",
       "Карта другого Банка  СБОЛ                           0.768683\n",
       "                     Интернет                       0.214235\n",
       "                     Другое                         0.014947\n",
       "                     Устройства самообслуживания    0.002135\n",
       "Номер телефона       СБОЛ                           0.924658\n",
       "                     Другое                         0.068493\n",
       "                     Устройства самообслуживания    0.006849\n",
       "Платежный счет       СБОЛ                           1.000000\n",
       "Снятие наличных      Токен                          1.000000\n",
       "Счет                 СБОЛ                           1.000000\n",
       "ТСТ                  Токен                          1.000000\n",
       "Электронный кошелек  Интернет                       0.933604\n",
       "                     СБОЛ                           0.066396\n",
       "Name: channel_op, dtype: float64"
      ]
     },
     "execution_count": 19,
     "metadata": {},
     "output_type": "execute_result"
    }
   ],
   "source": [
    "df.groupby('channel')['channel_op'].value_counts(normalize = True)"
   ]
  },
  {
   "cell_type": "code",
   "execution_count": 20,
   "id": "aafdc17a",
   "metadata": {},
   "outputs": [
    {
     "data": {
      "text/plain": [
       "count                          100\n",
       "mean        5 days 12:37:48.030000\n",
       "std      0 days 09:16:35.253051486\n",
       "min                3 days 19:25:01\n",
       "25%         5 days 10:25:57.750000\n",
       "50%                5 days 14:42:17\n",
       "75%         5 days 17:59:28.750000\n",
       "max                5 days 23:44:56\n",
       "Name: trx_begin_case, dtype: object"
      ]
     },
     "execution_count": 20,
     "metadata": {},
     "output_type": "execute_result"
    }
   ],
   "source": [
    "(df.groupby('case_id')['trx_begin_case'].max()-df.groupby('case_id')['trx_begin_case'].min()).describe()"
   ]
  },
  {
   "cell_type": "code",
   "execution_count": 21,
   "id": "588f8f4a",
   "metadata": {},
   "outputs": [
    {
     "data": {
      "text/html": [
       "<div>\n",
       "<style scoped>\n",
       "    .dataframe tbody tr th:only-of-type {\n",
       "        vertical-align: middle;\n",
       "    }\n",
       "\n",
       "    .dataframe tbody tr th {\n",
       "        vertical-align: top;\n",
       "    }\n",
       "\n",
       "    .dataframe thead th {\n",
       "        text-align: right;\n",
       "    }\n",
       "</style>\n",
       "<table border=\"1\" class=\"dataframe\">\n",
       "  <thead>\n",
       "    <tr style=\"text-align: right;\">\n",
       "      <th></th>\n",
       "      <th>count</th>\n",
       "      <th>mean</th>\n",
       "      <th>min</th>\n",
       "      <th>25%</th>\n",
       "      <th>50%</th>\n",
       "      <th>75%</th>\n",
       "      <th>max</th>\n",
       "    </tr>\n",
       "    <tr>\n",
       "      <th>case_id</th>\n",
       "      <th></th>\n",
       "      <th></th>\n",
       "      <th></th>\n",
       "      <th></th>\n",
       "      <th></th>\n",
       "      <th></th>\n",
       "      <th></th>\n",
       "    </tr>\n",
       "  </thead>\n",
       "  <tbody>\n",
       "    <tr>\n",
       "      <th>0</th>\n",
       "      <td>89</td>\n",
       "      <td>2021-11-02 12:34:42.089887744</td>\n",
       "      <td>2021-11-01 00:16:30</td>\n",
       "      <td>2021-11-01 11:33:14</td>\n",
       "      <td>2021-11-02 12:58:21</td>\n",
       "      <td>2021-11-02 22:38:40</td>\n",
       "      <td>2021-11-06 10:43:25</td>\n",
       "    </tr>\n",
       "    <tr>\n",
       "      <th>100</th>\n",
       "      <td>50</td>\n",
       "      <td>2021-11-03 03:49:13.460000</td>\n",
       "      <td>2021-11-01 05:41:07</td>\n",
       "      <td>2021-11-01 19:08:46</td>\n",
       "      <td>2021-11-03 02:54:39.500000</td>\n",
       "      <td>2021-11-04 01:45:16.249999872</td>\n",
       "      <td>2021-11-05 17:16:36</td>\n",
       "    </tr>\n",
       "    <tr>\n",
       "      <th>200</th>\n",
       "      <td>92</td>\n",
       "      <td>2021-11-03 10:44:03.934782976</td>\n",
       "      <td>2021-11-01 04:34:52</td>\n",
       "      <td>2021-11-02 07:47:21</td>\n",
       "      <td>2021-11-03 04:43:30.500000</td>\n",
       "      <td>2021-11-04 18:15:34.249999872</td>\n",
       "      <td>2021-11-06 13:52:12</td>\n",
       "    </tr>\n",
       "    <tr>\n",
       "      <th>300</th>\n",
       "      <td>98</td>\n",
       "      <td>2021-11-02 18:12:20.224489728</td>\n",
       "      <td>2021-11-01 02:03:54</td>\n",
       "      <td>2021-11-01 11:18:54.750000128</td>\n",
       "      <td>2021-11-02 14:19:57</td>\n",
       "      <td>2021-11-03 18:35:20.500000</td>\n",
       "      <td>2021-11-06 03:32:56</td>\n",
       "    </tr>\n",
       "    <tr>\n",
       "      <th>400</th>\n",
       "      <td>83</td>\n",
       "      <td>2021-11-03 02:18:40.361445632</td>\n",
       "      <td>2021-11-01 00:04:10</td>\n",
       "      <td>2021-11-01 18:59:53</td>\n",
       "      <td>2021-11-02 18:48:40</td>\n",
       "      <td>2021-11-04 09:40:25.500000</td>\n",
       "      <td>2021-11-06 17:29:37</td>\n",
       "    </tr>\n",
       "    <tr>\n",
       "      <th>...</th>\n",
       "      <td>...</td>\n",
       "      <td>...</td>\n",
       "      <td>...</td>\n",
       "      <td>...</td>\n",
       "      <td>...</td>\n",
       "      <td>...</td>\n",
       "      <td>...</td>\n",
       "    </tr>\n",
       "    <tr>\n",
       "      <th>9500</th>\n",
       "      <td>78</td>\n",
       "      <td>2021-11-03 10:29:44.410256640</td>\n",
       "      <td>2021-11-01 00:36:44</td>\n",
       "      <td>2021-11-02 14:38:14.249999872</td>\n",
       "      <td>2021-11-02 21:01:42</td>\n",
       "      <td>2021-11-04 13:13:04.500000</td>\n",
       "      <td>2021-11-06 07:47:28</td>\n",
       "    </tr>\n",
       "    <tr>\n",
       "      <th>9600</th>\n",
       "      <td>80</td>\n",
       "      <td>2021-11-03 12:14:15.987500032</td>\n",
       "      <td>2021-11-01 00:10:57</td>\n",
       "      <td>2021-11-02 12:26:04.750000128</td>\n",
       "      <td>2021-11-02 21:51:04.500000</td>\n",
       "      <td>2021-11-04 21:55:05.500000</td>\n",
       "      <td>2021-11-06 12:42:47</td>\n",
       "    </tr>\n",
       "    <tr>\n",
       "      <th>9700</th>\n",
       "      <td>98</td>\n",
       "      <td>2021-11-03 01:19:43.602040832</td>\n",
       "      <td>2021-11-01 04:35:19</td>\n",
       "      <td>2021-11-01 12:16:58.500000</td>\n",
       "      <td>2021-11-02 16:27:16</td>\n",
       "      <td>2021-11-04 04:11:54.500000</td>\n",
       "      <td>2021-11-06 14:28:51</td>\n",
       "    </tr>\n",
       "    <tr>\n",
       "      <th>9800</th>\n",
       "      <td>90</td>\n",
       "      <td>2021-11-03 06:49:32.955555584</td>\n",
       "      <td>2021-11-01 00:05:35</td>\n",
       "      <td>2021-11-02 13:04:07.249999872</td>\n",
       "      <td>2021-11-02 21:46:13</td>\n",
       "      <td>2021-11-03 20:40:56.249999872</td>\n",
       "      <td>2021-11-06 12:36:41</td>\n",
       "    </tr>\n",
       "    <tr>\n",
       "      <th>9900</th>\n",
       "      <td>114</td>\n",
       "      <td>2021-11-03 11:23:59.824561152</td>\n",
       "      <td>2021-11-01 00:14:49</td>\n",
       "      <td>2021-11-02 01:44:12.750000128</td>\n",
       "      <td>2021-11-03 15:45:46.500000</td>\n",
       "      <td>2021-11-04 12:08:19.249999872</td>\n",
       "      <td>2021-11-06 19:14:31</td>\n",
       "    </tr>\n",
       "  </tbody>\n",
       "</table>\n",
       "<p>100 rows × 7 columns</p>\n",
       "</div>"
      ],
      "text/plain": [
       "        count                           mean                  min  \\\n",
       "case_id                                                             \n",
       "0          89  2021-11-02 12:34:42.089887744  2021-11-01 00:16:30   \n",
       "100        50     2021-11-03 03:49:13.460000  2021-11-01 05:41:07   \n",
       "200        92  2021-11-03 10:44:03.934782976  2021-11-01 04:34:52   \n",
       "300        98  2021-11-02 18:12:20.224489728  2021-11-01 02:03:54   \n",
       "400        83  2021-11-03 02:18:40.361445632  2021-11-01 00:04:10   \n",
       "...       ...                            ...                  ...   \n",
       "9500       78  2021-11-03 10:29:44.410256640  2021-11-01 00:36:44   \n",
       "9600       80  2021-11-03 12:14:15.987500032  2021-11-01 00:10:57   \n",
       "9700       98  2021-11-03 01:19:43.602040832  2021-11-01 04:35:19   \n",
       "9800       90  2021-11-03 06:49:32.955555584  2021-11-01 00:05:35   \n",
       "9900      114  2021-11-03 11:23:59.824561152  2021-11-01 00:14:49   \n",
       "\n",
       "                                   25%                         50%  \\\n",
       "case_id                                                              \n",
       "0                  2021-11-01 11:33:14         2021-11-02 12:58:21   \n",
       "100                2021-11-01 19:08:46  2021-11-03 02:54:39.500000   \n",
       "200                2021-11-02 07:47:21  2021-11-03 04:43:30.500000   \n",
       "300      2021-11-01 11:18:54.750000128         2021-11-02 14:19:57   \n",
       "400                2021-11-01 18:59:53         2021-11-02 18:48:40   \n",
       "...                                ...                         ...   \n",
       "9500     2021-11-02 14:38:14.249999872         2021-11-02 21:01:42   \n",
       "9600     2021-11-02 12:26:04.750000128  2021-11-02 21:51:04.500000   \n",
       "9700        2021-11-01 12:16:58.500000         2021-11-02 16:27:16   \n",
       "9800     2021-11-02 13:04:07.249999872         2021-11-02 21:46:13   \n",
       "9900     2021-11-02 01:44:12.750000128  2021-11-03 15:45:46.500000   \n",
       "\n",
       "                                   75%                  max  \n",
       "case_id                                                      \n",
       "0                  2021-11-02 22:38:40  2021-11-06 10:43:25  \n",
       "100      2021-11-04 01:45:16.249999872  2021-11-05 17:16:36  \n",
       "200      2021-11-04 18:15:34.249999872  2021-11-06 13:52:12  \n",
       "300         2021-11-03 18:35:20.500000  2021-11-06 03:32:56  \n",
       "400         2021-11-04 09:40:25.500000  2021-11-06 17:29:37  \n",
       "...                                ...                  ...  \n",
       "9500        2021-11-04 13:13:04.500000  2021-11-06 07:47:28  \n",
       "9600        2021-11-04 21:55:05.500000  2021-11-06 12:42:47  \n",
       "9700        2021-11-04 04:11:54.500000  2021-11-06 14:28:51  \n",
       "9800     2021-11-03 20:40:56.249999872  2021-11-06 12:36:41  \n",
       "9900     2021-11-04 12:08:19.249999872  2021-11-06 19:14:31  \n",
       "\n",
       "[100 rows x 7 columns]"
      ]
     },
     "execution_count": 21,
     "metadata": {},
     "output_type": "execute_result"
    }
   ],
   "source": [
    "df.groupby('case_id')['trx_begin_case'].describe(datetime_is_numeric = True)"
   ]
  },
  {
   "cell_type": "code",
   "execution_count": 22,
   "id": "d0bb6784",
   "metadata": {},
   "outputs": [
    {
     "data": {
      "text/plain": [
       "case_id\n",
       "0      7 days 09:14:15\n",
       "100    7 days 00:32:29\n",
       "200    7 days 00:23:10\n",
       "300    7 days 06:40:06\n",
       "400    6 days 15:32:54\n",
       "             ...      \n",
       "9500   5 days 10:37:33\n",
       "9600   7 days 15:06:34\n",
       "9700   7 days 07:11:59\n",
       "9800   7 days 08:00:13\n",
       "9900   7 days 13:40:26\n",
       "Name: crm_case_created_case, Length: 100, dtype: timedelta64[ns]"
      ]
     },
     "execution_count": 22,
     "metadata": {},
     "output_type": "execute_result"
    }
   ],
   "source": [
    "df.groupby('case_id')['crm_case_created_case'].max()-df.groupby('case_id')['crm_case_created_case'].min()"
   ]
  },
  {
   "cell_type": "code",
   "execution_count": 23,
   "id": "7e0fcedf",
   "metadata": {},
   "outputs": [
    {
     "data": {
      "text/html": [
       "<div>\n",
       "<style scoped>\n",
       "    .dataframe tbody tr th:only-of-type {\n",
       "        vertical-align: middle;\n",
       "    }\n",
       "\n",
       "    .dataframe tbody tr th {\n",
       "        vertical-align: top;\n",
       "    }\n",
       "\n",
       "    .dataframe thead th {\n",
       "        text-align: right;\n",
       "    }\n",
       "</style>\n",
       "<table border=\"1\" class=\"dataframe\">\n",
       "  <thead>\n",
       "    <tr style=\"text-align: right;\">\n",
       "      <th></th>\n",
       "      <th>count</th>\n",
       "      <th>mean</th>\n",
       "      <th>min</th>\n",
       "      <th>25%</th>\n",
       "      <th>50%</th>\n",
       "      <th>75%</th>\n",
       "      <th>max</th>\n",
       "    </tr>\n",
       "    <tr>\n",
       "      <th>case_id</th>\n",
       "      <th></th>\n",
       "      <th></th>\n",
       "      <th></th>\n",
       "      <th></th>\n",
       "      <th></th>\n",
       "      <th></th>\n",
       "      <th></th>\n",
       "    </tr>\n",
       "  </thead>\n",
       "  <tbody>\n",
       "    <tr>\n",
       "      <th>0</th>\n",
       "      <td>89</td>\n",
       "      <td>2021-11-02 23:01:21.853932544</td>\n",
       "      <td>2021-11-01 01:29:05</td>\n",
       "      <td>2021-11-01 15:23:49</td>\n",
       "      <td>2021-11-02 20:19:03</td>\n",
       "      <td>2021-11-03 16:36:45</td>\n",
       "      <td>2021-11-08 10:43:20</td>\n",
       "    </tr>\n",
       "    <tr>\n",
       "      <th>100</th>\n",
       "      <td>50</td>\n",
       "      <td>2021-11-03 09:55:47.939999744</td>\n",
       "      <td>2021-11-01 08:44:25</td>\n",
       "      <td>2021-11-01 22:05:53.750000128</td>\n",
       "      <td>2021-11-03 06:43:27.500000</td>\n",
       "      <td>2021-11-04 11:00:24</td>\n",
       "      <td>2021-11-08 09:16:54</td>\n",
       "    </tr>\n",
       "    <tr>\n",
       "      <th>200</th>\n",
       "      <td>92</td>\n",
       "      <td>2021-11-03 19:04:39.923913216</td>\n",
       "      <td>2021-11-01 09:14:16</td>\n",
       "      <td>2021-11-02 16:46:47.500000</td>\n",
       "      <td>2021-11-03 13:51:33</td>\n",
       "      <td>2021-11-05 01:07:40.500000</td>\n",
       "      <td>2021-11-08 09:37:26</td>\n",
       "    </tr>\n",
       "    <tr>\n",
       "      <th>300</th>\n",
       "      <td>98</td>\n",
       "      <td>2021-11-03 00:17:23.387755008</td>\n",
       "      <td>2021-11-01 02:09:49</td>\n",
       "      <td>2021-11-01 13:53:02.249999872</td>\n",
       "      <td>2021-11-02 18:42:01</td>\n",
       "      <td>2021-11-03 21:46:59.750000128</td>\n",
       "      <td>2021-11-08 08:49:55</td>\n",
       "    </tr>\n",
       "    <tr>\n",
       "      <th>400</th>\n",
       "      <td>83</td>\n",
       "      <td>2021-11-03 14:07:11.289156352</td>\n",
       "      <td>2021-11-01 01:06:10</td>\n",
       "      <td>2021-11-02 17:32:26</td>\n",
       "      <td>2021-11-03 06:16:47</td>\n",
       "      <td>2021-11-04 16:43:33.500000</td>\n",
       "      <td>2021-11-07 16:39:04</td>\n",
       "    </tr>\n",
       "    <tr>\n",
       "      <th>...</th>\n",
       "      <td>...</td>\n",
       "      <td>...</td>\n",
       "      <td>...</td>\n",
       "      <td>...</td>\n",
       "      <td>...</td>\n",
       "      <td>...</td>\n",
       "      <td>...</td>\n",
       "    </tr>\n",
       "    <tr>\n",
       "      <th>9500</th>\n",
       "      <td>78</td>\n",
       "      <td>2021-11-03 15:27:14.564102912</td>\n",
       "      <td>2021-11-01 01:01:01</td>\n",
       "      <td>2021-11-02 18:55:24</td>\n",
       "      <td>2021-11-03 13:35:21</td>\n",
       "      <td>2021-11-04 20:29:02</td>\n",
       "      <td>2021-11-06 11:38:34</td>\n",
       "    </tr>\n",
       "    <tr>\n",
       "      <th>9600</th>\n",
       "      <td>80</td>\n",
       "      <td>2021-11-03 21:40:44.100000</td>\n",
       "      <td>2021-11-01 01:13:06</td>\n",
       "      <td>2021-11-02 17:37:55</td>\n",
       "      <td>2021-11-03 01:00:54.500000</td>\n",
       "      <td>2021-11-05 05:35:41.500000</td>\n",
       "      <td>2021-11-08 16:19:40</td>\n",
       "    </tr>\n",
       "    <tr>\n",
       "      <th>9700</th>\n",
       "      <td>98</td>\n",
       "      <td>2021-11-03 08:07:38.418367232</td>\n",
       "      <td>2021-11-01 08:50:47</td>\n",
       "      <td>2021-11-01 14:15:38</td>\n",
       "      <td>2021-11-02 19:34:21</td>\n",
       "      <td>2021-11-04 21:43:28</td>\n",
       "      <td>2021-11-08 16:02:46</td>\n",
       "    </tr>\n",
       "    <tr>\n",
       "      <th>9800</th>\n",
       "      <td>90</td>\n",
       "      <td>2021-11-03 20:30:42</td>\n",
       "      <td>2021-11-01 05:51:38</td>\n",
       "      <td>2021-11-02 18:23:07.500000</td>\n",
       "      <td>2021-11-03 12:37:04</td>\n",
       "      <td>2021-11-04 22:00:57</td>\n",
       "      <td>2021-11-08 13:51:51</td>\n",
       "    </tr>\n",
       "    <tr>\n",
       "      <th>9900</th>\n",
       "      <td>114</td>\n",
       "      <td>2021-11-03 18:11:43.324561664</td>\n",
       "      <td>2021-11-01 01:00:06</td>\n",
       "      <td>2021-11-02 18:50:31</td>\n",
       "      <td>2021-11-04 06:29:30</td>\n",
       "      <td>2021-11-04 13:19:37</td>\n",
       "      <td>2021-11-08 14:40:32</td>\n",
       "    </tr>\n",
       "  </tbody>\n",
       "</table>\n",
       "<p>100 rows × 7 columns</p>\n",
       "</div>"
      ],
      "text/plain": [
       "        count                           mean                  min  \\\n",
       "case_id                                                             \n",
       "0          89  2021-11-02 23:01:21.853932544  2021-11-01 01:29:05   \n",
       "100        50  2021-11-03 09:55:47.939999744  2021-11-01 08:44:25   \n",
       "200        92  2021-11-03 19:04:39.923913216  2021-11-01 09:14:16   \n",
       "300        98  2021-11-03 00:17:23.387755008  2021-11-01 02:09:49   \n",
       "400        83  2021-11-03 14:07:11.289156352  2021-11-01 01:06:10   \n",
       "...       ...                            ...                  ...   \n",
       "9500       78  2021-11-03 15:27:14.564102912  2021-11-01 01:01:01   \n",
       "9600       80     2021-11-03 21:40:44.100000  2021-11-01 01:13:06   \n",
       "9700       98  2021-11-03 08:07:38.418367232  2021-11-01 08:50:47   \n",
       "9800       90            2021-11-03 20:30:42  2021-11-01 05:51:38   \n",
       "9900      114  2021-11-03 18:11:43.324561664  2021-11-01 01:00:06   \n",
       "\n",
       "                                   25%                         50%  \\\n",
       "case_id                                                              \n",
       "0                  2021-11-01 15:23:49         2021-11-02 20:19:03   \n",
       "100      2021-11-01 22:05:53.750000128  2021-11-03 06:43:27.500000   \n",
       "200         2021-11-02 16:46:47.500000         2021-11-03 13:51:33   \n",
       "300      2021-11-01 13:53:02.249999872         2021-11-02 18:42:01   \n",
       "400                2021-11-02 17:32:26         2021-11-03 06:16:47   \n",
       "...                                ...                         ...   \n",
       "9500               2021-11-02 18:55:24         2021-11-03 13:35:21   \n",
       "9600               2021-11-02 17:37:55  2021-11-03 01:00:54.500000   \n",
       "9700               2021-11-01 14:15:38         2021-11-02 19:34:21   \n",
       "9800        2021-11-02 18:23:07.500000         2021-11-03 12:37:04   \n",
       "9900               2021-11-02 18:50:31         2021-11-04 06:29:30   \n",
       "\n",
       "                                   75%                  max  \n",
       "case_id                                                      \n",
       "0                  2021-11-03 16:36:45  2021-11-08 10:43:20  \n",
       "100                2021-11-04 11:00:24  2021-11-08 09:16:54  \n",
       "200         2021-11-05 01:07:40.500000  2021-11-08 09:37:26  \n",
       "300      2021-11-03 21:46:59.750000128  2021-11-08 08:49:55  \n",
       "400         2021-11-04 16:43:33.500000  2021-11-07 16:39:04  \n",
       "...                                ...                  ...  \n",
       "9500               2021-11-04 20:29:02  2021-11-06 11:38:34  \n",
       "9600        2021-11-05 05:35:41.500000  2021-11-08 16:19:40  \n",
       "9700               2021-11-04 21:43:28  2021-11-08 16:02:46  \n",
       "9800               2021-11-04 22:00:57  2021-11-08 13:51:51  \n",
       "9900               2021-11-04 13:19:37  2021-11-08 14:40:32  \n",
       "\n",
       "[100 rows x 7 columns]"
      ]
     },
     "execution_count": 23,
     "metadata": {},
     "output_type": "execute_result"
    }
   ],
   "source": [
    "df.groupby('case_id')['crm_case_created_case'].describe(datetime_is_numeric = True)"
   ]
  },
  {
   "cell_type": "code",
   "execution_count": 24,
   "id": "425b9449",
   "metadata": {},
   "outputs": [
    {
     "data": {
      "text/html": [
       "<div>\n",
       "<style scoped>\n",
       "    .dataframe tbody tr th:only-of-type {\n",
       "        vertical-align: middle;\n",
       "    }\n",
       "\n",
       "    .dataframe tbody tr th {\n",
       "        vertical-align: top;\n",
       "    }\n",
       "\n",
       "    .dataframe thead th {\n",
       "        text-align: right;\n",
       "    }\n",
       "</style>\n",
       "<table border=\"1\" class=\"dataframe\">\n",
       "  <thead>\n",
       "    <tr style=\"text-align: right;\">\n",
       "      <th></th>\n",
       "      <th>case_id</th>\n",
       "      <th>trans_id</th>\n",
       "      <th>channel</th>\n",
       "      <th>channel_op</th>\n",
       "      <th>TB</th>\n",
       "      <th>platform</th>\n",
       "      <th>product_type</th>\n",
       "      <th>trx_begin_case</th>\n",
       "      <th>crm_case_created_case</th>\n",
       "      <th>time_to_react</th>\n",
       "      <th>questions</th>\n",
       "    </tr>\n",
       "  </thead>\n",
       "  <tbody>\n",
       "    <tr>\n",
       "      <th>0</th>\n",
       "      <td>8200</td>\n",
       "      <td>8200001</td>\n",
       "      <td>Электронный кошелек</td>\n",
       "      <td>Интернет</td>\n",
       "      <td>7</td>\n",
       "      <td>Другое</td>\n",
       "      <td>Банковская карта</td>\n",
       "      <td>2021-11-01 06:57:19</td>\n",
       "      <td>2021-10-31 22:02:25</td>\n",
       "      <td>0 days 08:54:54</td>\n",
       "      <td>{u'ТСТ Причина совершения операции': u'Продает...</td>\n",
       "    </tr>\n",
       "    <tr>\n",
       "      <th>1</th>\n",
       "      <td>6100</td>\n",
       "      <td>6100001</td>\n",
       "      <td>Электронный кошелек</td>\n",
       "      <td>Интернет</td>\n",
       "      <td>7</td>\n",
       "      <td>Другое</td>\n",
       "      <td>Банковская карта</td>\n",
       "      <td>2021-11-01 01:59:53</td>\n",
       "      <td>2021-10-31 22:38:47</td>\n",
       "      <td>0 days 03:21:06</td>\n",
       "      <td>{u'Тип мошенничества': u'FIN', u'ТСТ Вердикт':...</td>\n",
       "    </tr>\n",
       "    <tr>\n",
       "      <th>2</th>\n",
       "      <td>6100</td>\n",
       "      <td>6100007</td>\n",
       "      <td>Электронный кошелек</td>\n",
       "      <td>Интернет</td>\n",
       "      <td>7</td>\n",
       "      <td>Другое</td>\n",
       "      <td>Банковская карта</td>\n",
       "      <td>2021-11-01 02:05:08</td>\n",
       "      <td>2021-10-31 22:38:47</td>\n",
       "      <td>0 days 03:26:21</td>\n",
       "      <td>{u'Тип мошенничества': u'FIN', u'ТСТ Вердикт':...</td>\n",
       "    </tr>\n",
       "    <tr>\n",
       "      <th>3</th>\n",
       "      <td>6100</td>\n",
       "      <td>6100002</td>\n",
       "      <td>Электронный кошелек</td>\n",
       "      <td>Интернет</td>\n",
       "      <td>7</td>\n",
       "      <td>Другое</td>\n",
       "      <td>Банковская карта</td>\n",
       "      <td>2021-11-01 02:00:57</td>\n",
       "      <td>2021-10-31 22:38:47</td>\n",
       "      <td>0 days 03:22:10</td>\n",
       "      <td>{u'Тип мошенничества': u'FIN', u'ТСТ Вердикт':...</td>\n",
       "    </tr>\n",
       "    <tr>\n",
       "      <th>4</th>\n",
       "      <td>6100</td>\n",
       "      <td>6100005</td>\n",
       "      <td>Электронный кошелек</td>\n",
       "      <td>Интернет</td>\n",
       "      <td>7</td>\n",
       "      <td>Другое</td>\n",
       "      <td>Банковская карта</td>\n",
       "      <td>2021-11-01 02:03:45</td>\n",
       "      <td>2021-10-31 22:38:47</td>\n",
       "      <td>0 days 03:24:58</td>\n",
       "      <td>{u'Тип мошенничества': u'FIN', u'ТСТ Вердикт':...</td>\n",
       "    </tr>\n",
       "  </tbody>\n",
       "</table>\n",
       "</div>"
      ],
      "text/plain": [
       "   case_id  trans_id              channel channel_op  TB platform  \\\n",
       "0     8200   8200001  Электронный кошелек   Интернет   7   Другое   \n",
       "1     6100   6100001  Электронный кошелек   Интернет   7   Другое   \n",
       "2     6100   6100007  Электронный кошелек   Интернет   7   Другое   \n",
       "3     6100   6100002  Электронный кошелек   Интернет   7   Другое   \n",
       "4     6100   6100005  Электронный кошелек   Интернет   7   Другое   \n",
       "\n",
       "       product_type      trx_begin_case crm_case_created_case   time_to_react  \\\n",
       "0  Банковская карта 2021-11-01 06:57:19   2021-10-31 22:02:25 0 days 08:54:54   \n",
       "1  Банковская карта 2021-11-01 01:59:53   2021-10-31 22:38:47 0 days 03:21:06   \n",
       "2  Банковская карта 2021-11-01 02:05:08   2021-10-31 22:38:47 0 days 03:26:21   \n",
       "3  Банковская карта 2021-11-01 02:00:57   2021-10-31 22:38:47 0 days 03:22:10   \n",
       "4  Банковская карта 2021-11-01 02:03:45   2021-10-31 22:38:47 0 days 03:24:58   \n",
       "\n",
       "                                           questions  \n",
       "0  {u'ТСТ Причина совершения операции': u'Продает...  \n",
       "1  {u'Тип мошенничества': u'FIN', u'ТСТ Вердикт':...  \n",
       "2  {u'Тип мошенничества': u'FIN', u'ТСТ Вердикт':...  \n",
       "3  {u'Тип мошенничества': u'FIN', u'ТСТ Вердикт':...  \n",
       "4  {u'Тип мошенничества': u'FIN', u'ТСТ Вердикт':...  "
      ]
     },
     "execution_count": 24,
     "metadata": {},
     "output_type": "execute_result"
    }
   ],
   "source": [
    "time_to_react = abs(df['crm_case_created_case']-df['trx_begin_case']) #сколько времени прошло с транзакции до обращения\n",
    "df.insert(9, 'time_to_react', time_to_react)\n",
    "df.head()"
   ]
  },
  {
   "cell_type": "code",
   "execution_count": 25,
   "id": "6c52230b",
   "metadata": {},
   "outputs": [
    {
     "data": {
      "text/html": [
       "<div>\n",
       "<style scoped>\n",
       "    .dataframe tbody tr th:only-of-type {\n",
       "        vertical-align: middle;\n",
       "    }\n",
       "\n",
       "    .dataframe tbody tr th {\n",
       "        vertical-align: top;\n",
       "    }\n",
       "\n",
       "    .dataframe thead th {\n",
       "        text-align: right;\n",
       "    }\n",
       "</style>\n",
       "<table border=\"1\" class=\"dataframe\">\n",
       "  <thead>\n",
       "    <tr style=\"text-align: right;\">\n",
       "      <th></th>\n",
       "      <th>count</th>\n",
       "      <th>mean</th>\n",
       "      <th>std</th>\n",
       "      <th>min</th>\n",
       "      <th>25%</th>\n",
       "      <th>50%</th>\n",
       "      <th>75%</th>\n",
       "      <th>max</th>\n",
       "    </tr>\n",
       "    <tr>\n",
       "      <th>case_id</th>\n",
       "      <th></th>\n",
       "      <th></th>\n",
       "      <th></th>\n",
       "      <th></th>\n",
       "      <th></th>\n",
       "      <th></th>\n",
       "      <th></th>\n",
       "      <th></th>\n",
       "    </tr>\n",
       "  </thead>\n",
       "  <tbody>\n",
       "    <tr>\n",
       "      <th>0</th>\n",
       "      <td>89</td>\n",
       "      <td>0 days 10:32:24.303370786</td>\n",
       "      <td>0 days 15:32:14.309169410</td>\n",
       "      <td>0 days 00:05:49</td>\n",
       "      <td>0 days 01:43:24</td>\n",
       "      <td>0 days 04:15:32</td>\n",
       "      <td>0 days 13:47:37</td>\n",
       "      <td>3 days 22:07:47</td>\n",
       "    </tr>\n",
       "    <tr>\n",
       "      <th>100</th>\n",
       "      <td>50</td>\n",
       "      <td>0 days 06:06:34.480000</td>\n",
       "      <td>0 days 11:20:38.175673459</td>\n",
       "      <td>0 days 00:06:00</td>\n",
       "      <td>0 days 01:20:50</td>\n",
       "      <td>0 days 03:02:50</td>\n",
       "      <td>0 days 06:04:41.250000</td>\n",
       "      <td>2 days 19:22:51</td>\n",
       "    </tr>\n",
       "    <tr>\n",
       "      <th>200</th>\n",
       "      <td>92</td>\n",
       "      <td>0 days 08:20:37.054347826</td>\n",
       "      <td>0 days 21:53:02.729095280</td>\n",
       "      <td>0 days 00:00:04</td>\n",
       "      <td>0 days 00:23:09</td>\n",
       "      <td>0 days 02:10:29</td>\n",
       "      <td>0 days 07:37:49.250000</td>\n",
       "      <td>6 days 21:58:08</td>\n",
       "    </tr>\n",
       "    <tr>\n",
       "      <th>300</th>\n",
       "      <td>98</td>\n",
       "      <td>0 days 06:05:03.163265306</td>\n",
       "      <td>0 days 09:42:37.349858768</td>\n",
       "      <td>0 days 00:03:38</td>\n",
       "      <td>0 days 00:25:47.250000</td>\n",
       "      <td>0 days 02:44:19</td>\n",
       "      <td>0 days 05:06:40</td>\n",
       "      <td>2 days 09:41:53</td>\n",
       "    </tr>\n",
       "    <tr>\n",
       "      <th>400</th>\n",
       "      <td>83</td>\n",
       "      <td>0 days 11:48:32.951807228</td>\n",
       "      <td>0 days 21:32:52.027886267</td>\n",
       "      <td>0 days 00:01:24</td>\n",
       "      <td>0 days 00:45:35</td>\n",
       "      <td>0 days 03:48:08</td>\n",
       "      <td>0 days 16:05:52.500000</td>\n",
       "      <td>6 days 01:27:14</td>\n",
       "    </tr>\n",
       "    <tr>\n",
       "      <th>...</th>\n",
       "      <td>...</td>\n",
       "      <td>...</td>\n",
       "      <td>...</td>\n",
       "      <td>...</td>\n",
       "      <td>...</td>\n",
       "      <td>...</td>\n",
       "      <td>...</td>\n",
       "      <td>...</td>\n",
       "    </tr>\n",
       "    <tr>\n",
       "      <th>9500</th>\n",
       "      <td>78</td>\n",
       "      <td>0 days 05:02:35.128205128</td>\n",
       "      <td>0 days 06:46:46.977647906</td>\n",
       "      <td>0 days 00:01:53</td>\n",
       "      <td>0 days 00:40:20.750000</td>\n",
       "      <td>0 days 03:18:35</td>\n",
       "      <td>0 days 05:04:40.250000</td>\n",
       "      <td>1 days 04:58:22</td>\n",
       "    </tr>\n",
       "    <tr>\n",
       "      <th>9600</th>\n",
       "      <td>80</td>\n",
       "      <td>0 days 09:29:09.762500</td>\n",
       "      <td>0 days 16:01:12.239079005</td>\n",
       "      <td>0 days 00:01:46</td>\n",
       "      <td>0 days 00:26:01.500000</td>\n",
       "      <td>0 days 01:37:29</td>\n",
       "      <td>0 days 07:55:32</td>\n",
       "      <td>3 days 08:08:20</td>\n",
       "    </tr>\n",
       "    <tr>\n",
       "      <th>9700</th>\n",
       "      <td>98</td>\n",
       "      <td>0 days 06:57:01.959183673</td>\n",
       "      <td>0 days 12:43:42.960192714</td>\n",
       "      <td>0 days 00:01:14</td>\n",
       "      <td>0 days 00:39:14.250000</td>\n",
       "      <td>0 days 03:14:07</td>\n",
       "      <td>0 days 05:32:10.500000</td>\n",
       "      <td>4 days 00:56:12</td>\n",
       "    </tr>\n",
       "    <tr>\n",
       "      <th>9800</th>\n",
       "      <td>90</td>\n",
       "      <td>0 days 13:41:09.044444444</td>\n",
       "      <td>0 days 21:17:12.766558893</td>\n",
       "      <td>0 days 00:05:39</td>\n",
       "      <td>0 days 00:49:55</td>\n",
       "      <td>0 days 03:41:50.500000</td>\n",
       "      <td>0 days 17:10:56</td>\n",
       "      <td>5 days 02:48:16</td>\n",
       "    </tr>\n",
       "    <tr>\n",
       "      <th>9900</th>\n",
       "      <td>114</td>\n",
       "      <td>0 days 06:47:43.500000</td>\n",
       "      <td>0 days 13:17:53.291958856</td>\n",
       "      <td>0 days 00:00:09</td>\n",
       "      <td>0 days 00:25:59.250000</td>\n",
       "      <td>0 days 01:13:06.500000</td>\n",
       "      <td>0 days 03:32:43.250000</td>\n",
       "      <td>3 days 01:49:40</td>\n",
       "    </tr>\n",
       "  </tbody>\n",
       "</table>\n",
       "<p>100 rows × 8 columns</p>\n",
       "</div>"
      ],
      "text/plain": [
       "        count                       mean                        std  \\\n",
       "case_id                                                               \n",
       "0          89  0 days 10:32:24.303370786  0 days 15:32:14.309169410   \n",
       "100        50     0 days 06:06:34.480000  0 days 11:20:38.175673459   \n",
       "200        92  0 days 08:20:37.054347826  0 days 21:53:02.729095280   \n",
       "300        98  0 days 06:05:03.163265306  0 days 09:42:37.349858768   \n",
       "400        83  0 days 11:48:32.951807228  0 days 21:32:52.027886267   \n",
       "...       ...                        ...                        ...   \n",
       "9500       78  0 days 05:02:35.128205128  0 days 06:46:46.977647906   \n",
       "9600       80     0 days 09:29:09.762500  0 days 16:01:12.239079005   \n",
       "9700       98  0 days 06:57:01.959183673  0 days 12:43:42.960192714   \n",
       "9800       90  0 days 13:41:09.044444444  0 days 21:17:12.766558893   \n",
       "9900      114     0 days 06:47:43.500000  0 days 13:17:53.291958856   \n",
       "\n",
       "                     min                     25%                     50%  \\\n",
       "case_id                                                                    \n",
       "0        0 days 00:05:49         0 days 01:43:24         0 days 04:15:32   \n",
       "100      0 days 00:06:00         0 days 01:20:50         0 days 03:02:50   \n",
       "200      0 days 00:00:04         0 days 00:23:09         0 days 02:10:29   \n",
       "300      0 days 00:03:38  0 days 00:25:47.250000         0 days 02:44:19   \n",
       "400      0 days 00:01:24         0 days 00:45:35         0 days 03:48:08   \n",
       "...                  ...                     ...                     ...   \n",
       "9500     0 days 00:01:53  0 days 00:40:20.750000         0 days 03:18:35   \n",
       "9600     0 days 00:01:46  0 days 00:26:01.500000         0 days 01:37:29   \n",
       "9700     0 days 00:01:14  0 days 00:39:14.250000         0 days 03:14:07   \n",
       "9800     0 days 00:05:39         0 days 00:49:55  0 days 03:41:50.500000   \n",
       "9900     0 days 00:00:09  0 days 00:25:59.250000  0 days 01:13:06.500000   \n",
       "\n",
       "                            75%              max  \n",
       "case_id                                           \n",
       "0               0 days 13:47:37  3 days 22:07:47  \n",
       "100      0 days 06:04:41.250000  2 days 19:22:51  \n",
       "200      0 days 07:37:49.250000  6 days 21:58:08  \n",
       "300             0 days 05:06:40  2 days 09:41:53  \n",
       "400      0 days 16:05:52.500000  6 days 01:27:14  \n",
       "...                         ...              ...  \n",
       "9500     0 days 05:04:40.250000  1 days 04:58:22  \n",
       "9600            0 days 07:55:32  3 days 08:08:20  \n",
       "9700     0 days 05:32:10.500000  4 days 00:56:12  \n",
       "9800            0 days 17:10:56  5 days 02:48:16  \n",
       "9900     0 days 03:32:43.250000  3 days 01:49:40  \n",
       "\n",
       "[100 rows x 8 columns]"
      ]
     },
     "execution_count": 25,
     "metadata": {},
     "output_type": "execute_result"
    }
   ],
   "source": [
    "df.groupby('case_id')['time_to_react'].describe()"
   ]
  },
  {
   "cell_type": "code",
   "execution_count": 26,
   "id": "376dcd6b",
   "metadata": {},
   "outputs": [
    {
     "data": {
      "text/plain": [
       "count                          100\n",
       "mean     0 days 07:50:56.553792244\n",
       "std      0 days 03:18:22.447537400\n",
       "min      0 days 03:18:32.788888888\n",
       "25%      0 days 05:41:55.559121621\n",
       "50%      0 days 07:04:46.204411764\n",
       "75%      0 days 09:15:00.417682926\n",
       "max      1 days 01:44:00.214876033\n",
       "Name: time_to_react, dtype: object"
      ]
     },
     "execution_count": 26,
     "metadata": {},
     "output_type": "execute_result"
    }
   ],
   "source": [
    "df.groupby('case_id')['time_to_react'].mean().describe()"
   ]
  },
  {
   "cell_type": "code",
   "execution_count": 27,
   "id": "91babd8d",
   "metadata": {},
   "outputs": [
    {
     "data": {
      "image/png": "[encoded data removed]",
      "text/plain": [
       "<Figure size 432x288 with 1 Axes>"
      ]
     },
     "metadata": {
      "needs_background": "light"
     },
     "output_type": "display_data"
    }
   ],
   "source": [
    "sns.boxplot(data = df.groupby('case_id')['trans_id'].count(),orient = 'h')\n",
    "plt.title('Кол-во транзакций сгруппированных по конкретному кейсу')\n",
    "plt.xlabel('Кол-во транзакций')\n",
    "plt.show()"
   ]
  },
  {
   "cell_type": "code",
   "execution_count": 28,
   "id": "a7672d2b",
   "metadata": {},
   "outputs": [
    {
     "data": {
      "text/plain": [
       "array([2500, 5300, 6700, 6900, 7900], dtype=int64)"
      ]
     },
     "execution_count": 28,
     "metadata": {},
     "output_type": "execute_result"
    }
   ],
   "source": [
    "outliers = df.groupby('case_id')['trans_id'].count()\n",
    "q75, q25 = np.percentile(outliers, [75 ,25])\n",
    "iqr = q75 - q25\n",
    "outliers.where((outliers <= q25 - 1.5*iqr ) | (outliers >= q75 + 1.5*iqr )).fillna(0).values.nonzero()[0]*100"
   ]
  },
  {
   "cell_type": "code",
   "execution_count": 29,
   "id": "de8f0ebe",
   "metadata": {},
   "outputs": [
    {
     "data": {
      "text/html": [
       "<div>\n",
       "<style scoped>\n",
       "    .dataframe tbody tr th:only-of-type {\n",
       "        vertical-align: middle;\n",
       "    }\n",
       "\n",
       "    .dataframe tbody tr th {\n",
       "        vertical-align: top;\n",
       "    }\n",
       "\n",
       "    .dataframe thead th {\n",
       "        text-align: right;\n",
       "    }\n",
       "</style>\n",
       "<table border=\"1\" class=\"dataframe\">\n",
       "  <thead>\n",
       "    <tr style=\"text-align: right;\">\n",
       "      <th></th>\n",
       "      <th>case_id</th>\n",
       "      <th>trans_id</th>\n",
       "      <th>channel</th>\n",
       "      <th>channel_op</th>\n",
       "      <th>TB</th>\n",
       "      <th>platform</th>\n",
       "      <th>product_type</th>\n",
       "      <th>trx_begin_case</th>\n",
       "      <th>crm_case_created_case</th>\n",
       "      <th>time_to_react</th>\n",
       "      <th>questions</th>\n",
       "    </tr>\n",
       "  </thead>\n",
       "  <tbody>\n",
       "    <tr>\n",
       "      <th>4634</th>\n",
       "      <td>8800</td>\n",
       "      <td>8800002</td>\n",
       "      <td>Счет</td>\n",
       "      <td>СБОЛ</td>\n",
       "      <td>5</td>\n",
       "      <td>МП</td>\n",
       "      <td>Вклады и счета</td>\n",
       "      <td>2021-11-02</td>\n",
       "      <td>2021-11-03 00:34:28</td>\n",
       "      <td>1 days 00:34:28</td>\n",
       "      <td>{u'СБОЛ. Схема мошенничества': u'Сам перевел',...</td>\n",
       "    </tr>\n",
       "    <tr>\n",
       "      <th>5182</th>\n",
       "      <td>1600</td>\n",
       "      <td>1600001</td>\n",
       "      <td>Счет</td>\n",
       "      <td>СБОЛ</td>\n",
       "      <td>5</td>\n",
       "      <td>МП</td>\n",
       "      <td>Вклады и счета</td>\n",
       "      <td>2021-11-03</td>\n",
       "      <td>2021-11-03 15:03:50</td>\n",
       "      <td>0 days 15:03:50</td>\n",
       "      <td>{u'СБОЛ. Схема мошенничества': u'Сам перевел',...</td>\n",
       "    </tr>\n",
       "    <tr>\n",
       "      <th>6529</th>\n",
       "      <td>1300</td>\n",
       "      <td>1300001</td>\n",
       "      <td>Карта другого Банка</td>\n",
       "      <td>СБОЛ</td>\n",
       "      <td>6</td>\n",
       "      <td>МП</td>\n",
       "      <td>Вклады и счета</td>\n",
       "      <td>2021-11-04</td>\n",
       "      <td>2021-11-04 15:28:39</td>\n",
       "      <td>0 days 15:28:39</td>\n",
       "      <td>{u'СБОЛ. Схема мошенничества': u'Сам перевел',...</td>\n",
       "    </tr>\n",
       "    <tr>\n",
       "      <th>6530</th>\n",
       "      <td>1300</td>\n",
       "      <td>1300003</td>\n",
       "      <td>Карта другого Банка</td>\n",
       "      <td>СБОЛ</td>\n",
       "      <td>6</td>\n",
       "      <td>МП</td>\n",
       "      <td>Вклады и счета</td>\n",
       "      <td>2021-11-04</td>\n",
       "      <td>2021-11-04 15:28:39</td>\n",
       "      <td>0 days 15:28:39</td>\n",
       "      <td>{u'СБОЛ. Схема мошенничества': u'Сам перевел',...</td>\n",
       "    </tr>\n",
       "  </tbody>\n",
       "</table>\n",
       "</div>"
      ],
      "text/plain": [
       "      case_id  trans_id              channel channel_op  TB platform  \\\n",
       "4634     8800   8800002                 Счет       СБОЛ   5       МП   \n",
       "5182     1600   1600001                 Счет       СБОЛ   5       МП   \n",
       "6529     1300   1300001  Карта другого Банка       СБОЛ   6       МП   \n",
       "6530     1300   1300003  Карта другого Банка       СБОЛ   6       МП   \n",
       "\n",
       "        product_type trx_begin_case crm_case_created_case   time_to_react  \\\n",
       "4634  Вклады и счета     2021-11-02   2021-11-03 00:34:28 1 days 00:34:28   \n",
       "5182  Вклады и счета     2021-11-03   2021-11-03 15:03:50 0 days 15:03:50   \n",
       "6529  Вклады и счета     2021-11-04   2021-11-04 15:28:39 0 days 15:28:39   \n",
       "6530  Вклады и счета     2021-11-04   2021-11-04 15:28:39 0 days 15:28:39   \n",
       "\n",
       "                                              questions  \n",
       "4634  {u'СБОЛ. Схема мошенничества': u'Сам перевел',...  \n",
       "5182  {u'СБОЛ. Схема мошенничества': u'Сам перевел',...  \n",
       "6529  {u'СБОЛ. Схема мошенничества': u'Сам перевел',...  \n",
       "6530  {u'СБОЛ. Схема мошенничества': u'Сам перевел',...  "
      ]
     },
     "execution_count": 29,
     "metadata": {},
     "output_type": "execute_result"
    }
   ],
   "source": [
    "df[df['product_type'] == 'Вклады и счета']"
   ]
  },
  {
   "cell_type": "code",
   "execution_count": 30,
   "id": "543c8039",
   "metadata": {},
   "outputs": [
    {
     "data": {
      "image/png": "[encoded data removed]",
      "text/plain": [
       "<Figure size 432x288 with 1 Axes>"
      ]
     },
     "metadata": {
      "needs_background": "light"
     },
     "output_type": "display_data"
    }
   ],
   "source": [
    "plt.bar(df['TB'].value_counts().index,df['TB'].value_counts().values)\n",
    "plt.title('TB')\n",
    "plt.show()"
   ]
  },
  {
   "cell_type": "code",
   "execution_count": 31,
   "id": "e52b9967",
   "metadata": {},
   "outputs": [
    {
     "data": {
      "text/plain": [
       "TB\n",
       "1     324\n",
       "2    1412\n",
       "3     912\n",
       "4     594\n",
       "5    1133\n",
       "6    1485\n",
       "7    1340\n",
       "8    1570\n",
       "Name: case_id, dtype: int64"
      ]
     },
     "execution_count": 31,
     "metadata": {},
     "output_type": "execute_result"
    }
   ],
   "source": [
    "df.groupby('TB')['case_id'].count()"
   ]
  },
  {
   "cell_type": "code",
   "execution_count": 32,
   "id": "fb240bb2",
   "metadata": {},
   "outputs": [
    {
     "data": {
      "text/plain": [
       "TB  channel            \n",
       "1   Снятие наличных         258\n",
       "    Иное                     58\n",
       "    Карта другого Банка       6\n",
       "    Номер телефона            2\n",
       "2   Снятие наличных         902\n",
       "    Иное                    482\n",
       "    Карта другого Банка      13\n",
       "    Номер телефона            8\n",
       "    Карта Сбербанка           7\n",
       "3   Снятие наличных         595\n",
       "    Иное                    309\n",
       "    Карта Сбербанка           6\n",
       "    Карта другого Банка       1\n",
       "    Номер телефона            1\n",
       "4   Снятие наличных         271\n",
       "    Иное                    214\n",
       "    ТСТ                      85\n",
       "    Карта Сбербанка          20\n",
       "    Карта другого Банка       4\n",
       "5   Карта другого Банка     508\n",
       "    Карта Сбербанка         274\n",
       "    Иное                    222\n",
       "    Номер телефона           64\n",
       "    ТСТ                      34\n",
       "    Электронный кошелек      19\n",
       "    Счет                     12\n",
       "6   Карта другого Банка     812\n",
       "    Карта Сбербанка         425\n",
       "    Иное                    133\n",
       "    Номер телефона           71\n",
       "    Электронный кошелек      30\n",
       "    Счет                     13\n",
       "    Платежный счет            1\n",
       "7   Электронный кошелек     686\n",
       "    Карта Сбербанка         557\n",
       "    Иное                     49\n",
       "    Карта другого Банка      48\n",
       "8   Иное                   1554\n",
       "    Карта другого Банка      13\n",
       "    Электронный кошелек       3\n",
       "Name: channel, dtype: int64"
      ]
     },
     "execution_count": 32,
     "metadata": {},
     "output_type": "execute_result"
    }
   ],
   "source": [
    "df.groupby('TB')['channel'].value_counts()"
   ]
  },
  {
   "cell_type": "code",
   "execution_count": 33,
   "id": "abc191a3",
   "metadata": {},
   "outputs": [
    {
     "data": {
      "text/plain": [
       "TB  channel_op                 \n",
       "1   Токен                           258\n",
       "    Другое                           35\n",
       "    Устройства самообслуживания      26\n",
       "    Зачисление кредита                5\n",
       "2   Токен                           902\n",
       "    Устройства самообслуживания     258\n",
       "    Другое                          165\n",
       "    Зачисление кредита               78\n",
       "    ТСТ или Токен                     9\n",
       "3   Токен                           595\n",
       "    Устройства самообслуживания     163\n",
       "    Другое                          123\n",
       "    Зачисление кредита               26\n",
       "    ТСТ или Токен                     5\n",
       "4   Токен                           356\n",
       "    Устройства самообслуживания     104\n",
       "    Другое                           88\n",
       "    Зачисление кредита               42\n",
       "    ТСТ или Токен                     3\n",
       "    Другой канал                      1\n",
       "5   СБОЛ                           1005\n",
       "    Устройства самообслуживания      63\n",
       "    Токен                            34\n",
       "    Другое                           17\n",
       "    Зачисление кредита               11\n",
       "    ТСТ или Токен                     3\n",
       "6   СБОЛ                           1245\n",
       "    Интернет                        240\n",
       "7   Интернет                       1340\n",
       "8   Интернет                       1570\n",
       "Name: channel_op, dtype: int64"
      ]
     },
     "execution_count": 33,
     "metadata": {},
     "output_type": "execute_result"
    }
   ],
   "source": [
    "df.groupby('TB')['channel_op'].value_counts()"
   ]
  },
  {
   "cell_type": "code",
   "execution_count": 34,
   "id": "159d9cf5",
   "metadata": {},
   "outputs": [
    {
     "data": {
      "text/plain": [
       "TB  channel_op                 \n",
       "1   Токен                          0.796296\n",
       "    Другое                         0.108025\n",
       "    Устройства самообслуживания    0.080247\n",
       "    Зачисление кредита             0.015432\n",
       "2   Токен                          0.638810\n",
       "    Устройства самообслуживания    0.182720\n",
       "    Другое                         0.116856\n",
       "    Зачисление кредита             0.055241\n",
       "    ТСТ или Токен                  0.006374\n",
       "3   Токен                          0.652412\n",
       "    Устройства самообслуживания    0.178728\n",
       "    Другое                         0.134868\n",
       "    Зачисление кредита             0.028509\n",
       "    ТСТ или Токен                  0.005482\n",
       "4   Токен                          0.599327\n",
       "    Устройства самообслуживания    0.175084\n",
       "    Другое                         0.148148\n",
       "    Зачисление кредита             0.070707\n",
       "    ТСТ или Токен                  0.005051\n",
       "    Другой канал                   0.001684\n",
       "5   СБОЛ                           0.887026\n",
       "    Устройства самообслуживания    0.055605\n",
       "    Токен                          0.030009\n",
       "    Другое                         0.015004\n",
       "    Зачисление кредита             0.009709\n",
       "    ТСТ или Токен                  0.002648\n",
       "6   СБОЛ                           0.838384\n",
       "    Интернет                       0.161616\n",
       "7   Интернет                       1.000000\n",
       "8   Интернет                       1.000000\n",
       "Name: channel_op, dtype: float64"
      ]
     },
     "execution_count": 34,
     "metadata": {},
     "output_type": "execute_result"
    }
   ],
   "source": [
    "df.groupby('TB')['channel_op'].value_counts(normalize = True)"
   ]
  },
  {
   "cell_type": "code",
   "execution_count": 35,
   "id": "8902ad1f",
   "metadata": {},
   "outputs": [
    {
     "data": {
      "text/plain": [
       "Другое    6532\n",
       "МП        2141\n",
       "СИРИУС      54\n",
       "Web         43\n",
       "Name: platform, dtype: int64"
      ]
     },
     "execution_count": 35,
     "metadata": {},
     "output_type": "execute_result"
    }
   ],
   "source": [
    "df['platform'].value_counts()"
   ]
  },
  {
   "cell_type": "code",
   "execution_count": 36,
   "id": "0e92dbf8",
   "metadata": {},
   "outputs": [
    {
     "data": {
      "text/plain": [
       "platform  channel_op                 \n",
       "Web       СБОЛ                             43\n",
       "Другое    Интернет                       3150\n",
       "          Токен                          2145\n",
       "          Устройства самообслуживания     614\n",
       "          Другое                          428\n",
       "          Зачисление кредита              162\n",
       "          ТСТ или Токен                    20\n",
       "          СБОЛ                             12\n",
       "          Другой канал                      1\n",
       "МП        СБОЛ                           2141\n",
       "СИРИУС    СБОЛ                             54\n",
       "Name: channel_op, dtype: int64"
      ]
     },
     "execution_count": 36,
     "metadata": {},
     "output_type": "execute_result"
    }
   ],
   "source": [
    "df.groupby('platform')['channel_op'].value_counts()"
   ]
  },
  {
   "cell_type": "code",
   "execution_count": 37,
   "id": "3d55d79c",
   "metadata": {},
   "outputs": [
    {
     "data": {
      "text/plain": [
       "platform  channel            \n",
       "Web       Электронный кошелек      18\n",
       "          Карта другого Банка      10\n",
       "          Иное                      8\n",
       "          Карта Сбербанка           5\n",
       "          Счет                      2\n",
       "Другое    Иное                   2757\n",
       "          Снятие наличных        2026\n",
       "          Электронный кошелек     689\n",
       "          Карта Сбербанка         601\n",
       "          Карта другого Банка     329\n",
       "          ТСТ                     119\n",
       "          Номер телефона           11\n",
       "МП        Карта другого Банка    1058\n",
       "          Карта Сбербанка         676\n",
       "          Иное                    220\n",
       "          Номер телефона          132\n",
       "          Электронный кошелек      31\n",
       "          Счет                     23\n",
       "          Платежный счет            1\n",
       "СИРИУС    Иное                     36\n",
       "          Карта другого Банка       8\n",
       "          Карта Сбербанка           7\n",
       "          Номер телефона            3\n",
       "Name: channel, dtype: int64"
      ]
     },
     "execution_count": 37,
     "metadata": {},
     "output_type": "execute_result"
    }
   ],
   "source": [
    "df.groupby('platform')['channel'].value_counts(normalize = False)"
   ]
  },
  {
   "cell_type": "code",
   "execution_count": 38,
   "id": "4affcda9",
   "metadata": {},
   "outputs": [
    {
     "data": {
      "text/plain": [
       "platform  channel            \n",
       "Web       Электронный кошелек    0.418605\n",
       "          Карта другого Банка    0.232558\n",
       "          Иное                   0.186047\n",
       "          Карта Сбербанка        0.116279\n",
       "          Счет                   0.046512\n",
       "Другое    Иное                   0.422076\n",
       "          Снятие наличных        0.310165\n",
       "          Электронный кошелек    0.105481\n",
       "          Карта Сбербанка        0.092009\n",
       "          Карта другого Банка    0.050367\n",
       "          ТСТ                    0.018218\n",
       "          Номер телефона         0.001684\n",
       "МП        Карта другого Банка    0.494162\n",
       "          Карта Сбербанка        0.315740\n",
       "          Иное                   0.102756\n",
       "          Номер телефона         0.061653\n",
       "          Электронный кошелек    0.014479\n",
       "          Счет                   0.010743\n",
       "          Платежный счет         0.000467\n",
       "СИРИУС    Иное                   0.666667\n",
       "          Карта другого Банка    0.148148\n",
       "          Карта Сбербанка        0.129630\n",
       "          Номер телефона         0.055556\n",
       "Name: channel, dtype: float64"
      ]
     },
     "execution_count": 38,
     "metadata": {},
     "output_type": "execute_result"
    }
   ],
   "source": [
    "df.groupby('platform')['channel'].value_counts(normalize = True)"
   ]
  },
  {
   "cell_type": "code",
   "execution_count": 39,
   "id": "6dc0263e",
   "metadata": {},
   "outputs": [],
   "source": [
    "df['questions'] = df['questions'].astype('str')"
   ]
  },
  {
   "cell_type": "code",
   "execution_count": 40,
   "id": "d7ffa0d3",
   "metadata": {},
   "outputs": [],
   "source": [
    "def split_text(text: str) -> List[List[str]]:\n",
    "    '''\n",
    "    Преобразует строку в двумерный массив,в котором 0 ось содержит вопросы,а 1 ось содержит ответы на данные вопросы.\n",
    "    '''\n",
    "    array = []\n",
    "    text_split = text.split('u')[1:]\n",
    "    for i in range(0,len(text_split),2):\n",
    "        array.append(text_split[i:i+2])\n",
    "    return array"
   ]
  },
  {
   "cell_type": "code",
   "execution_count": 41,
   "id": "6642fa6d",
   "metadata": {},
   "outputs": [],
   "source": [
    "df['question_parsed'] = df['questions'].apply(lambda x: [i[0][1:-3] for i in split_text(x)])\n",
    "df['answer_parsed'] = df['questions'].apply(lambda x: [i[1][1:-3] for i in split_text(x)])"
   ]
  },
  {
   "cell_type": "code",
   "execution_count": 42,
   "id": "250eef9d",
   "metadata": {},
   "outputs": [
    {
     "data": {
      "text/html": [
       "<div>\n",
       "<style scoped>\n",
       "    .dataframe tbody tr th:only-of-type {\n",
       "        vertical-align: middle;\n",
       "    }\n",
       "\n",
       "    .dataframe tbody tr th {\n",
       "        vertical-align: top;\n",
       "    }\n",
       "\n",
       "    .dataframe thead th {\n",
       "        text-align: right;\n",
       "    }\n",
       "</style>\n",
       "<table border=\"1\" class=\"dataframe\">\n",
       "  <thead>\n",
       "    <tr style=\"text-align: right;\">\n",
       "      <th></th>\n",
       "      <th>case_id</th>\n",
       "      <th>trans_id</th>\n",
       "      <th>channel</th>\n",
       "      <th>channel_op</th>\n",
       "      <th>TB</th>\n",
       "      <th>platform</th>\n",
       "      <th>product_type</th>\n",
       "      <th>trx_begin_case</th>\n",
       "      <th>crm_case_created_case</th>\n",
       "      <th>time_to_react</th>\n",
       "      <th>questions</th>\n",
       "      <th>question_parsed</th>\n",
       "      <th>answer_parsed</th>\n",
       "    </tr>\n",
       "  </thead>\n",
       "  <tbody>\n",
       "    <tr>\n",
       "      <th>0</th>\n",
       "      <td>8200</td>\n",
       "      <td>8200001</td>\n",
       "      <td>Электронный кошелек</td>\n",
       "      <td>Интернет</td>\n",
       "      <td>7</td>\n",
       "      <td>Другое</td>\n",
       "      <td>Банковская карта</td>\n",
       "      <td>2021-11-01 06:57:19</td>\n",
       "      <td>2021-10-31 22:02:25</td>\n",
       "      <td>0 days 08:54:54</td>\n",
       "      <td>{u'ТСТ Причина совершения операции': u'Продает...</td>\n",
       "      <td>[ТСТ Причина совершения операции, ТСТ Вы совер...</td>\n",
       "      <td>[Продает или покупает товар/услугу черезИнтерн...</td>\n",
       "    </tr>\n",
       "    <tr>\n",
       "      <th>1</th>\n",
       "      <td>6100</td>\n",
       "      <td>6100001</td>\n",
       "      <td>Электронный кошелек</td>\n",
       "      <td>Интернет</td>\n",
       "      <td>7</td>\n",
       "      <td>Другое</td>\n",
       "      <td>Банковская карта</td>\n",
       "      <td>2021-11-01 01:59:53</td>\n",
       "      <td>2021-10-31 22:38:47</td>\n",
       "      <td>0 days 03:21:06</td>\n",
       "      <td>{u'Тип мошенничества': u'FIN', u'ТСТ Вердикт':...</td>\n",
       "      <td>[Тип мошенничества, ТСТ Вердикт, ТСТ Операция ...</td>\n",
       "      <td>[FIN, Воспользовались 3 лица без спроса, 0, 0,...</td>\n",
       "    </tr>\n",
       "    <tr>\n",
       "      <th>2</th>\n",
       "      <td>6100</td>\n",
       "      <td>6100007</td>\n",
       "      <td>Электронный кошелек</td>\n",
       "      <td>Интернет</td>\n",
       "      <td>7</td>\n",
       "      <td>Другое</td>\n",
       "      <td>Банковская карта</td>\n",
       "      <td>2021-11-01 02:05:08</td>\n",
       "      <td>2021-10-31 22:38:47</td>\n",
       "      <td>0 days 03:26:21</td>\n",
       "      <td>{u'Тип мошенничества': u'FIN', u'ТСТ Вердикт':...</td>\n",
       "      <td>[Тип мошенничества, ТСТ Вердикт, ТСТ Операция ...</td>\n",
       "      <td>[FIN, Воспользовались 3 лица без спроса, 0, 0,...</td>\n",
       "    </tr>\n",
       "  </tbody>\n",
       "</table>\n",
       "</div>"
      ],
      "text/plain": [
       "   case_id  trans_id              channel channel_op  TB platform  \\\n",
       "0     8200   8200001  Электронный кошелек   Интернет   7   Другое   \n",
       "1     6100   6100001  Электронный кошелек   Интернет   7   Другое   \n",
       "2     6100   6100007  Электронный кошелек   Интернет   7   Другое   \n",
       "\n",
       "       product_type      trx_begin_case crm_case_created_case   time_to_react  \\\n",
       "0  Банковская карта 2021-11-01 06:57:19   2021-10-31 22:02:25 0 days 08:54:54   \n",
       "1  Банковская карта 2021-11-01 01:59:53   2021-10-31 22:38:47 0 days 03:21:06   \n",
       "2  Банковская карта 2021-11-01 02:05:08   2021-10-31 22:38:47 0 days 03:26:21   \n",
       "\n",
       "                                           questions  \\\n",
       "0  {u'ТСТ Причина совершения операции': u'Продает...   \n",
       "1  {u'Тип мошенничества': u'FIN', u'ТСТ Вердикт':...   \n",
       "2  {u'Тип мошенничества': u'FIN', u'ТСТ Вердикт':...   \n",
       "\n",
       "                                     question_parsed  \\\n",
       "0  [ТСТ Причина совершения операции, ТСТ Вы совер...   \n",
       "1  [Тип мошенничества, ТСТ Вердикт, ТСТ Операция ...   \n",
       "2  [Тип мошенничества, ТСТ Вердикт, ТСТ Операция ...   \n",
       "\n",
       "                                       answer_parsed  \n",
       "0  [Продает или покупает товар/услугу черезИнтерн...  \n",
       "1  [FIN, Воспользовались 3 лица без спроса, 0, 0,...  \n",
       "2  [FIN, Воспользовались 3 лица без спроса, 0, 0,...  "
      ]
     },
     "execution_count": 42,
     "metadata": {},
     "output_type": "execute_result"
    }
   ],
   "source": [
    "df.head(3)"
   ]
  },
  {
   "cell_type": "code",
   "execution_count": 43,
   "id": "483b4373",
   "metadata": {},
   "outputs": [
    {
     "data": {
      "text/plain": [
       "(1978, 4, 5074, 1714, 8770)"
      ]
     },
     "execution_count": 43,
     "metadata": {},
     "output_type": "execute_result"
    }
   ],
   "source": [
    "cnt,cnt_unk,cnt_3,cnt_fishing = 0,0,0,0\n",
    "for i in df['answer_parsed']:\n",
    "    if 'Обстоятельства выяснить не удалос' in i:\n",
    "        cnt_unk +=1\n",
    "    elif 'Воспользовались 3 лица без спроса' in i:\n",
    "        cnt_3 +=1\n",
    "    elif 'Сам перевел' in i:\n",
    "        cnt_fishing +=1\n",
    "    else:\n",
    "        cnt +=1\n",
    "cnt,cnt_unk,cnt_3,cnt_fishing,df['answer_parsed'].shape[0]"
   ]
  },
  {
   "cell_type": "code",
   "execution_count": 44,
   "id": "1810a011",
   "metadata": {
    "scrolled": false
   },
   "outputs": [
    {
     "data": {
      "text/plain": [
       "(6, 4, 8, 19, 37)"
      ]
     },
     "execution_count": 44,
     "metadata": {},
     "output_type": "execute_result"
    }
   ],
   "source": [
    "cnt,cnt_unk,cnt_3,cnt_fishing = 0,0,0,0\n",
    "for i in df[df['product_type'] == 'Иное']['answer_parsed']:\n",
    "    if 'Обстоятельства выяснить не удалос' in i:\n",
    "        cnt_unk +=1\n",
    "    elif 'Воспользовались 3 лица без спроса' in i:\n",
    "        cnt_3 +=1\n",
    "    elif 'Сам перевел' in i:\n",
    "        cnt_fishing +=1\n",
    "    else:\n",
    "        cnt +=1\n",
    "cnt,cnt_unk,cnt_3,cnt_fishing,df[df['product_type'] == 'Иное']['answer_parsed'].shape[0]"
   ]
  },
  {
   "cell_type": "code",
   "execution_count": 45,
   "id": "a969758f",
   "metadata": {},
   "outputs": [
    {
     "data": {
      "text/plain": [
       "(0, 0, 0, 4, 37)"
      ]
     },
     "execution_count": 45,
     "metadata": {},
     "output_type": "execute_result"
    }
   ],
   "source": [
    "cnt,cnt_unk,cnt_3,cnt_fishing = 0,0,0,0\n",
    "for i in df[df['product_type'] == 'Вклады и счета']['answer_parsed']:\n",
    "    if 'выяснить не удалос' in i:\n",
    "        cnt_unk +=1\n",
    "    elif '3 лица' in i:\n",
    "        cnt_3 +=1\n",
    "    elif 'Сам перевел' in i:\n",
    "        cnt_fishing +=1\n",
    "    else:\n",
    "        cnt +=1\n",
    "cnt,cnt_unk,cnt_3,cnt_fishing,df[df['product_type'] == 'Иное']['answer_parsed'].shape[0]"
   ]
  },
  {
   "cell_type": "code",
   "execution_count": 46,
   "id": "c7758aaf",
   "metadata": {},
   "outputs": [],
   "source": [
    "unique_questions = set() # множество уникальных вопросов\n",
    "for i in df['question_parsed']:\n",
    "    for j in i:\n",
    "        unique_questions.add(j)"
   ]
  },
  {
   "cell_type": "code",
   "execution_count": 47,
   "id": "5518b81b",
   "metadata": {},
   "outputs": [],
   "source": [
    "keys = []\n",
    "unk = []\n",
    "for i in unique_questions:\n",
    "    i = i.split(' ')\n",
    "    if i[0] == 'Тип' or i[0] == 'номер' or i[0] == 'Как':\n",
    "        unk.append(keys[-1]) #если в вопросе нет тега,отнесем к прошлому каналу в котором был тег\n",
    "        keys.append(keys[-1])\n",
    "    elif i[0] == '':\n",
    "        keys.append('Другое')\n",
    "    elif i[0][-1] == '.':\n",
    "        keys.append(i[0][:-1])\n",
    "    else:\n",
    "        keys.append(i[0])\n",
    "keys = list(set(keys))"
   ]
  },
  {
   "cell_type": "code",
   "execution_count": 48,
   "id": "568cfe30",
   "metadata": {},
   "outputs": [],
   "source": [
    "channel_question = dict.fromkeys(keys,[]) # key - канал откуда совершили списание, value - вопрос\n",
    "for i in unique_questions:\n",
    "    i = i.split(' ')\n",
    "    w = ' '.join(i[1:])\n",
    "    cnt = 0\n",
    "    if i[0] == 'Тип' or i[0] == 'номер' or i[0] == 'Как':\n",
    "        if w not in channel_question[unk[cnt]]:\n",
    "            channel_question[unk[cnt]] += [w]\n",
    "            cnt +=1\n",
    "    elif i[0] == '':\n",
    "        if w not in channel_question['Другое']:\n",
    "            channel_question['Другое'] += [w]\n",
    "    elif i[0][-1] == '.':\n",
    "        if w not in channel_question[i[0][:-1]]:\n",
    "            channel_question[i[0][:-1]] += [w]\n",
    "    else:\n",
    "        if w not in channel_question[i[0]]:\n",
    "            channel_question[i[0]] += [w]"
   ]
  },
  {
   "cell_type": "code",
   "execution_count": 49,
   "id": "12115e36",
   "metadata": {},
   "outputs": [
    {
     "data": {
      "text/plain": [
       "['Вы совершили данную операцию самостоятельно?',\n",
       " 'Схема мошенничества',\n",
       " 'Операция проводилась в банкомате Сбербанка?',\n",
       " 'Вердикт',\n",
       " 'На вашем телефоне наблюдалась неработоспособность сим-карты?',\n",
       " 'Вы устанавливали перед операцией новые мобильные приложения?',\n",
       " 'Операция была с 3DS?',\n",
       " 'Вы сообщали кому-то номер карты или смс-пароли с номера 900?',\n",
       " 'На момент операции карта и телефон были у Вас?',\n",
       " 'Вы сообщали\\xa0персональную информацию?',\n",
       " 'или Токен Схема мошенничества',\n",
       " 'мошенники обратились к вам?',\n",
       " 'Вы сами подтверждали операцию?',\n",
       " 'Причина совершения операции',\n",
       " 'Вы получали СМС с паролями?',\n",
       " 'Вы подключили этот номер к своей карте по чьей-то просьбе?',\n",
       " 'Установка программ была сделана по просьбе 3 лиц?',\n",
       " 'Куда-то вводили номер карты или смс-пароли с номера 900?',\n",
       " 'телефона, с которого был звонок?',\n",
       " 'Вы теряли или передавали кому-то Ваши карты, телефон?',\n",
       " 'Этот номер принадлежал Вам раньше?',\n",
       " 'Как с Вами связались мошенники?',\n",
       " 'мошенничества',\n",
       " 'тип СБОЛ (На основе данных из АРМ ЕРИБ)',\n",
       " 'Все телефоны, подключенные к МБ, принадлежат клиенту?',\n",
       " 'Операция была с предъявлением карты?',\n",
       " 'или Токен Вердикт',\n",
       " 'номер телефона, с которого был звонок или смс',\n",
       " 'Этот номер принадлежал вам раньше?']"
      ]
     },
     "execution_count": 49,
     "metadata": {},
     "output_type": "execute_result"
    }
   ],
   "source": [
    "channel_question['СБОЛ']"
   ]
  },
  {
   "cell_type": "code",
   "execution_count": 50,
   "id": "6929b3f1",
   "metadata": {},
   "outputs": [],
   "source": [
    "unique_answers = set() # множество уникальных ответов\n",
    "for i in df['answer_parsed']:\n",
    "    for j in i:\n",
    "        unique_answers.add(j)"
   ]
  },
  {
   "cell_type": "code",
   "execution_count": 51,
   "id": "0c38f6a4",
   "metadata": {},
   "outputs": [
    {
     "data": {
      "text/plain": [
       "[('0', 11923),\n",
       " ('FIN', 8663),\n",
       " ('Воспользовались 3 лица без спроса', 5591),\n",
       " ('1', 3786),\n",
       " ('Воспользовались 3 лица без спрос', 2714),\n",
       " ('МП', 2240),\n",
       " ('', 2229),\n",
       " ('Карта и мобильный телефон (в том числе сим-карта) не на рука', 1948),\n",
       " ('Сам перевел', 1723),\n",
       " ('Продает или покупает товар/услугу черезИнтернет', 1543),\n",
       " ('Товар/услугу не получил, обман', 1520),\n",
       " ('Сам переве', 1010),\n",
       " ('Фишинг', 964),\n",
       " ('Перевод/платеж по просьбе 3 лиц', 825),\n",
       " ('Кто-то попросил совершить\\xa0 данный перевод/платеж', 821),\n",
       " ('Звонок/СМС', 441),\n",
       " ('Карта и мобильный телефон (в том числе сим-карта) не на руках', 339),\n",
       " ('Предоставил данные для входа СБОЛ/Проведения операции', 335),\n",
       " ('Перевел деньги с целью получения дохода', 262),\n",
       " ('Перевод с целью получения дохода', 238),\n",
       " ('Кража личност', 197),\n",
       " ('Сам передал 3 лица', 159),\n",
       " ('Сам передал 3 лицам', 140),\n",
       " ('Кража личности', 136),\n",
       " ('Под руководством 3-х лиц', 116),\n",
       " ('Перевод/платеж по просьбе 3 ли', 102),\n",
       " ('Перевод/платеж по просьбе третьих лиц', 101),\n",
       " ('E-mail', 97),\n",
       " ('Сам оформил креди', 94),\n",
       " ('Карта украдена/потерян', 90),\n",
       " ('Карта украдена/потеряна', 85),\n",
       " ('Под воздействием 3 ли', 75),\n",
       " ('FI', 71),\n",
       " ('Клиент не совершал операцию, подозревает мошенничество', 66),\n",
       " ('Сам оформил кредит', 59),\n",
       " ('Под воздействием 3 лиц', 58),\n",
       " ('Обстоятельства выяснить не удалось', 56),\n",
       " ('СИРИУС', 48),\n",
       " ('Web', 34),\n",
       " ('Перевод с целью получения доход', 22),\n",
       " ('Номер телефона уже не принадлежит клиенту', 21),\n",
       " ('Карта и мобильный телефон(в том числе сим-карта карта) не на руках', 21),\n",
       " ('Товар/услуга были получены', 16),\n",
       " ('Перешел по ссылке из SMS/MMS', 11),\n",
       " ('Вредоносные программ', 11),\n",
       " ('Товар/услугу не получил, обма', 10),\n",
       " ('Подключил услугу МБК к карте', 8),\n",
       " ('Перестала работать сим-карта данные не разглашались', 6),\n",
       " ('Воспользовались 3 лица без спроса ИЛИ Скимминг', 6),\n",
       " ('Кредит с целью получения дохода/покупки', 5),\n",
       " ('79038498500', 5),\n",
       " ('Обстоятельства выяснить не удалос', 4),\n",
       " ('Установил приложение перед списанием', 4),\n",
       " ('М', 4),\n",
       " ('74958224686', 3),\n",
       " ('79149089056', 2),\n",
       " ('74952663138', 2),\n",
       " ('79292074088', 2),\n",
       " ('79111111111', 2),\n",
       " ('9778395442', 2),\n",
       " ('Звонок', 2),\n",
       " ('74996730590', 2),\n",
       " ('+7(931) 105-05-80,+7(931) 105-05-91,+7(931) 105-05-90', 2),\n",
       " ('4958005550', 2),\n",
       " ('Вредоносные программы', 2),\n",
       " ('NOT_FIN', 2),\n",
       " ('9812230795', 2),\n",
       " ('Удаленное управление устройством', 2),\n",
       " ('79812224086', 1),\n",
       " ('79197398352', 1),\n",
       " ('79011779874', 1),\n",
       " ('Фишин', 1),\n",
       " ('74956618794', 1),\n",
       " ('79527885857', 1),\n",
       " ('74953631223', 1),\n",
       " ('74957491700', 1),\n",
       " ('74952873199', 1),\n",
       " ('74953084340', 1),\n",
       " ('78005551010', 1),\n",
       " ('74956614887', 1),\n",
       " ('7953353114', 1),\n",
       " ('74952735211', 1),\n",
       " ('74999552591', 1),\n",
       " ('79778038240', 1),\n",
       " ('+79648543112', 1),\n",
       " ('Кто-то попросил совершить\\xa0 данный перевод/платеж?', 1),\n",
       " ('74994298508', 1),\n",
       " ('9243349835', 1),\n",
       " ('79649001985', 1)]"
      ]
     },
     "execution_count": 51,
     "metadata": {},
     "output_type": "execute_result"
    }
   ],
   "source": [
    "answer_freq = dict.fromkeys(unique_answers,0) # сколько раз ответ был упомянут в датафрейме\n",
    "for i in df['answer_parsed']:\n",
    "    for j in i:\n",
    "        answer_freq[j] +=1\n",
    "Counter(answer_freq).most_common(len(answer_freq))"
   ]
  },
  {
   "cell_type": "code",
   "execution_count": 52,
   "id": "8c718a89",
   "metadata": {},
   "outputs": [
    {
     "data": {
      "text/plain": [
       "29"
      ]
     },
     "execution_count": 52,
     "metadata": {},
     "output_type": "execute_result"
    }
   ],
   "source": [
    "len(set(channel_question['ВСП']) & set(channel_question['УС']) & set(channel_question['МБК']) & \n",
    "    set(channel_question['Кредит']) & set(channel_question['ТСТ']) & set(channel_question['Другое']) & \n",
    "    set(channel_question['СБОЛ']))"
   ]
  },
  {
   "cell_type": "code",
   "execution_count": 53,
   "id": "1eb89ce4",
   "metadata": {},
   "outputs": [
    {
     "data": {
      "text/plain": [
       "29"
      ]
     },
     "execution_count": 53,
     "metadata": {},
     "output_type": "execute_result"
    }
   ],
   "source": [
    "len(set(channel_question['ВСП']) | set(channel_question['УС']) | set(channel_question['МБК']) | \n",
    "    set(channel_question['Кредит']) | set(channel_question['ТСТ']) | set(channel_question['Другое']) | \n",
    "    set(channel_question['СБОЛ']))"
   ]
  },
  {
   "cell_type": "markdown",
   "id": "42b4b388",
   "metadata": {},
   "source": [
    "## Всего у нас 100 кейсов,в каждом из которых в среднем было 87-88 транзакций.\n",
    "\n",
    "###### Среди 100 кейсов существуют выбросы по количеству транзакций:\n",
    "* Кейс №7900 имеет всего 43 транзакции.\n",
    "* Кейсы №2500,№5300,№6700,№6900 имеют больше 125 транзакций.\n",
    "\n",
    "###### Время между первым и последним списанием:\n",
    "* минимальное: 3 дня 19 часов.\n",
    "* среднее: 5 дней 12 часов.\n",
    "* максимальное: 6 дней.\n",
    "\n",
    "###### Время реакции клиента:\n",
    "* минимальное: 3 часа.\n",
    "* среднее: 8 часов.\n",
    "* максимальное: 1 день.\n",
    "\n",
    "###### Самые популярные пары каналов списания - канал куда списали:\n",
    "* Иное - Интернет 53% (1603 случаев) ; Устройство самообслуживания 20% (610 случаев).\n",
    "* Карта Сбербанка - СБОЛ 53% (696 случаев) ; Интернет 43% (557 случаев).\n",
    "* Карта другого банка - СБОЛ 76% (1080 случаев).\n",
    "* Номер телефона - СБОЛ 92% (135 случаев).\n",
    "* Платежный счет - СБОЛ 100% (1 случай).\n",
    "* Снятие наличных - Токен 100% (2026 случаев).\n",
    "* Счет - СБОЛ 100% (25 случаев).\n",
    "* ТСТ - Токен 100% (119 случаев).\n",
    "* Электронный кошелек - Интернет 93% (689 случаев).\n",
    "\n",
    "###### В зависимости от тер.банка в большинстве случаев можно определить канал списания,и канал куда оно было произведено:\n",
    "* TB = 1-4 - списание через токен на выдачу наличных 65.1 % (2111 случаев).\n",
    "* TB = 5-6 - списание через СБОЛ на карту другого банка 85.9 % (2250 случаев).\n",
    "* TB = 7-8 - списание через Интернет на карту другого банка или Иное 100 % (2880 случаев).\n",
    "\n",
    "######  Связь платформы удаленного канала и канала,с которого было проведено списание:\n",
    "* WEB - Электронный кошелек 41% (18 случаев) ; Карта другого Банка 23% (10 случаев).\n",
    "* Другое - Иное 42% (2757 случаев) ; Снятие наличных 31% (2026 случаев).\n",
    "* МП - Карта другого Банка 49% (1058 случаев) ; Карта Сбербанка 31% (676 случаев).\n",
    "* Сириус - Иное 66% (39 случаев).\n",
    "\n",
    "## Чаще всего операции проводятся с использованием СБОЛа (как в качестве канала куда списывают,так и в качестве канала откуда списывают).\n",
    "\n",
    "###### Все транзакции можем разделить на такие категории ( исходя из ответов клиентов) :\n",
    "* Воспользовались 3 лица без спроса - 10410 упоминаний.\n",
    "* Сам перевел - 3520 упоминаний.\n",
    "* Покупка/продажа товара через интернет - 3073 упоминаний.\n",
    "* Утерянная карта/мобильный телефон/сим-карта - 2510 упоминаний.\n",
    "* Фишинг - 965 упоминаний.\n",
    "* Операции с целью получения прибыли - 535 упоминаний.\n",
    "* Кража личности - 333 упоминания.\n",
    "* Вредоносные приложения - 30 упоминаний.\n",
    "* Не удалось выяснить обстоятельства - 126 упоминаний.\n",
    "\n",
    "######  Связь типа продукта и вида транзакции:\n",
    "Если тип продукта - 'Иное'  (19/37 случаев) или 'Вклады и счета' (4/4 случаев),то зачастую клиенты или проводят транзакции сами (фишинг) ,и лишь в остальных случаях в этом виноваты 3 лица (8/37 для 'Иное') или обстоятельства,которые не возможно выяснить (4/37 для 'Иное').\n",
    "\n",
    "###### В зависимости от канала списания вопросы не меняются.\n",
    "\n",
    "## Самые частые способы способы обмана - обман с использованием 3 лиц и фишинг."
   ]
  },
  {
   "cell_type": "code",
   "execution_count": null,
   "id": "608ee214",
   "metadata": {},
   "outputs": [],
   "source": []
  }
 ],
 "metadata": {
  "kernelspec": {
   "display_name": "Python 3",
   "language": "python",
   "name": "python3"
  },
  "language_info": {
   "codemirror_mode": {
    "name": "ipython",
    "version": 3
   },
   "file_extension": ".py",
   "mimetype": "text/x-python",
   "name": "python",
   "nbconvert_exporter": "python",
   "pygments_lexer": "ipython3",
   "version": "3.8.8"
  }
 },
 "nbformat": 4,
 "nbformat_minor": 5
}
